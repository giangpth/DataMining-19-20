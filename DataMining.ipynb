{
 "cells": [
  {
   "cell_type": "code",
   "execution_count": 443,
   "metadata": {},
   "outputs": [],
   "source": [
    "%matplotlib inline\n",
    "import math\n",
    "import numpy as np\n",
    "import pandas as pd\n",
    "import scipy.stats as stats\n",
    "import matplotlib.pyplot as plt\n",
    "\n",
    "from collections import defaultdict\n",
    "from scipy.stats.stats import pearsonr\n",
    "import seaborn as sb"
   ]
  },
  {
   "cell_type": "markdown",
   "metadata": {},
   "source": [
    "# Data semantic "
   ]
  },
  {
   "cell_type": "code",
   "execution_count": null,
   "metadata": {},
   "outputs": [],
   "source": [
    "# Data semantic\n",
    "df = pd.read_csv('training.csv')\n",
    "print(len(df))"
   ]
  },
  {
   "cell_type": "code",
   "execution_count": null,
   "metadata": {
    "scrolled": true
   },
   "outputs": [],
   "source": [
    "# Data semantic\n",
    "df.info()"
   ]
  },
  {
   "cell_type": "code",
   "execution_count": null,
   "metadata": {},
   "outputs": [],
   "source": []
  },
  {
   "cell_type": "markdown",
   "metadata": {},
   "source": [
    "# Data distribution and statistics "
   ]
  },
  {
   "cell_type": "code",
   "execution_count": null,
   "metadata": {},
   "outputs": [],
   "source": [
    "dfSize = df['Size']\n",
    "sizeSr = dfSize.value_counts()\n",
    "print(sizeSr)\n",
    "print(sizeSr.sum())\n",
    "fgsize = sizeSr.plot(kind='pie', title='SIZE', \n",
    "           autopct=lambda p: '{:.2f}%({:.0f})'.format(p, (p/100)*sizeSr.sum()), \n",
    "           figsize=(11, 11))\n",
    "fgsize.yaxis.set_label_text('')"
   ]
  },
  {
   "cell_type": "code",
   "execution_count": null,
   "metadata": {},
   "outputs": [],
   "source": [
    "print(df['MMRAcquisitionAuctionAveragePrice'].mean())\n",
    "print(df['MMRAcquisitionAuctionCleanPrice'].mean())\n",
    "print(df['MMRAcquisitionRetailAveragePrice'].mean())\n",
    "print(df['MMRAcquisitonRetailCleanPrice'].mean())\n",
    "print(df['MMRCurrentAuctionAveragePrice'].mean())\n",
    "print(df['MMRCurrentAuctionCleanPrice'].mean())\n",
    "print(df['MMRCurrentRetailAveragePrice'].mean())\n",
    "print(df['MMRCurrentRetailCleanPrice'].mean())\n",
    "print(df['VehBCost'].mean())"
   ]
  },
  {
   "cell_type": "code",
   "execution_count": null,
   "metadata": {},
   "outputs": [],
   "source": [
    "# df['MMRAcquisitionAuctionAveragePrice'].hist(bins = 200)\n",
    "\n",
    "aap = df['MMRAcquisitionAuctionAveragePrice'].plot(kind='hist', bins = 17, \n",
    "                                             subplots=True,sharex=True,sharey=True,\n",
    "                                             title='Price at the auction for average condition')\n",
    "aap[0].set_xlabel(\"Dollar\")"
   ]
  },
  {
   "cell_type": "code",
   "execution_count": null,
   "metadata": {},
   "outputs": [],
   "source": [
    "nationsr = df['Nationality'].value_counts()\n",
    "print(nationsr)\n",
    "print(nationsr.sum())\n",
    "fgnat = nationsr.plot(kind='pie', title = 'NATIONALITY', figsize =(7, 7),\n",
    "             autopct=lambda p: '{:.2f}%({:.0f})'.format(p, (p/100)*nationsr.sum()))\n",
    "fgnat.yaxis.set_label_text('')"
   ]
  },
  {
   "cell_type": "code",
   "execution_count": null,
   "metadata": {},
   "outputs": [],
   "source": [
    "colorsr = df['Color'].value_counts()\n",
    "print(colorsr)\n",
    "print(len(colorsr))\n",
    "print(colorsr[:14])\n",
    "spcolordf = pd.DataFrame(data=colorsr[:14])\n",
    "othercolorval = len(df) - df['Color'].value_counts().sum() + colorsr[14:].sum()\n",
    "print(othercolorval)\n",
    "othercolordt = {'Color': [othercolorval]}\n",
    "othercolordf = pd.DataFrame(othercolordt, index=['OTHER OR NOT AVAIL'])\n",
    "allcolor = pd.concat([spcolordf, othercolordf])\n",
    "# print(allcolor)\n",
    "fgcolor = allcolor.plot.pie(y='Color', figsize=(15, 15), title='COLOR', autopct = \"%1.1f%%\", \n",
    "                            pctdistance=1.1, labeldistance = 1.2)\n",
    "fgcolor.yaxis.set_label_text('')\n",
    "print(allcolor.sum())"
   ]
  },
  {
   "cell_type": "code",
   "execution_count": null,
   "metadata": {},
   "outputs": [],
   "source": [
    "rap = df['MMRAcquisitionRetailAveragePrice'].plot(kind='hist', bins = 200, \n",
    "                                             subplots=True,sharex=True,sharey=True,\n",
    "                                             title='Retail price for average condition')\n",
    "rap[0].set_xlabel(\"Dollar\")"
   ]
  },
  {
   "cell_type": "code",
   "execution_count": null,
   "metadata": {},
   "outputs": [],
   "source": [
    "aaap = df['MMRAcquisitionAuctionCleanPrice'].plot(kind='hist', bins = 200, \n",
    "                                           subplots=True,sharex=True,sharey=True,\n",
    "                                           title='Price at the auction for above average condition')\n",
    "aaap[0].set_xlabel('Dollar')"
   ]
  },
  {
   "cell_type": "code",
   "execution_count": null,
   "metadata": {},
   "outputs": [],
   "source": [
    "dfAcqCur = pd.DataFrame(data = {'Acquisition mean price': [round(df['MMRAcquisitionAuctionAveragePrice'].mean(), 2), \n",
    "                                             round(df['MMRAcquisitionAuctionCleanPrice'].mean(), 2),\n",
    "                                             round(df['MMRAcquisitionRetailAveragePrice'].mean(), 2),\n",
    "                                             round(df['MMRAcquisitonRetailCleanPrice'].mean(), 2)],\n",
    "    'Current mean price': [round(df['MMRCurrentAuctionAveragePrice'].mean(), 2), \n",
    "                                             round(df['MMRCurrentAuctionCleanPrice'].mean(), 2),\n",
    "                                             round(df['MMRCurrentRetailAveragePrice'].mean(), 2),\n",
    "                                             round(df['MMRCurrentRetailCleanPrice'].mean(), 2)], \n",
    "                               'Mean bought vehicle price': [round(df['VehBCost'].mean(), 2), \n",
    "                                             round(df['VehBCost'].mean(), 2),\n",
    "                                             round(df['VehBCost'].mean(), 2),\n",
    "                                             round(df['VehBCost'].mean(), 2)]}, \n",
    "                        index = ['Auction on Average',\n",
    "                                             'Auction Above average',\n",
    "                                             'Retail on Average',\n",
    "                                             'Retail Above average'],)\n",
    "dfVeB = pd.DataFrame(data = {'Mean price': [round(df['VehBCost'].mean(), 2)]}, \n",
    "                    index = ['Bought cost'])\n",
    "\n",
    "\n",
    "print(dfAcqCur)\n",
    "\n",
    "\n",
    "fgAcqCur = dfAcqCur[['Acquisition mean price', 'Current mean price']].plot(kind = 'bar', \n",
    "                                                                title = 'Acquisition and current mean price for average and above average condition')\n",
    "plt.setp(fgAcqCur.get_xticklabels(), rotation=20, ha ='right')\n",
    "# dfAcqCur['Current mean price'].plot(kind = 'barh', ax = pricefig)\n",
    "\n"
   ]
  },
  {
   "cell_type": "code",
   "execution_count": null,
   "metadata": {},
   "outputs": [],
   "source": [
    "raap = df['MMRAcquisitonRetailCleanPrice'].plot(kind='hist', bins = 200, \n",
    "                                             subplots=True,sharex=True,sharey=True,\n",
    "                                             title='Retail price for above average condition')\n",
    "raap[0].set_xlabel(\"Dollar\")"
   ]
  },
  {
   "cell_type": "code",
   "execution_count": null,
   "metadata": {},
   "outputs": [],
   "source": [
    "bc = df['VehBCost'].plot(kind='hist', bins = 200, \n",
    "                                             subplots=True,sharex=True,sharey=True,\n",
    "                                             title='Vehicle cost')\n",
    "bc[0].set_xlabel(\"Dollar\")"
   ]
  },
  {
   "cell_type": "code",
   "execution_count": null,
   "metadata": {},
   "outputs": [],
   "source": [
    "dfvehyear = df['VehYear'].value_counts()\n",
    "print(dfvehyear)\n",
    "# dfvehyear = df['VehYear'].value_counts(normalize=True).plot.pie(figsize=(9, 9), subplots=True)\n",
    "\n",
    "fhvy = dfvehyear.plot(kind='pie', autopct='%1.1f%%', title='YEAR OF MANUFACTURE', figsize=(9, 9))\n",
    "fhvy.yaxis.set_label_text(\"\")\n",
    "print(dfvehyear.sum())"
   ]
  },
  {
   "cell_type": "code",
   "execution_count": null,
   "metadata": {
    "scrolled": false
   },
   "outputs": [],
   "source": [
    "# df['Make'].value_counts(normalize=False).plot(kind='pie', title = \"Manufactureres\")\n",
    "makedffull = df['Make'].value_counts()\n",
    "print(makedffull)\n",
    "top17 = makedffull[:18] #get top 17 bigest manufacturers \n",
    "top17df = pd.DataFrame(data = top17)\n",
    "print(top17df)\n",
    "#sum all other manufacturers and name them \"others\"\n",
    "sumallother = makedffull[18:].sum()\n",
    "data = {'Make':[sumallother]}\n",
    "otherDf = pd.DataFrame(data, index=['OTHER'])\n",
    "fullmakedf = pd.concat([top17df, otherDf])\n",
    "print(fullmakedf)\n",
    "fgmake = fullmakedf.plot(kind='pie', title='MANUFACTURER', y='Make', figsize=(12, 12), autopct='%1.1f%%')\n",
    "fgmake.yaxis.set_label_text('')\n",
    "print(fullmakedf.sum())"
   ]
  },
  {
   "cell_type": "code",
   "execution_count": null,
   "metadata": {},
   "outputs": [],
   "source": [
    "subModelSr = df['SubModel'].value_counts()\n",
    "submod = subModelSr[:20].plot(kind='barh', title='SUBMODEL TOP 20')\n",
    "submod.set_xlabel('Number of cars')"
   ]
  },
  {
   "cell_type": "code",
   "execution_count": null,
   "metadata": {},
   "outputs": [],
   "source": [
    "wc = df['WarrantyCost'].plot(kind='hist', bins = 200,\n",
    "                             subplots=True,sharex=True,sharey=True,\n",
    "                                             title='Warranty cost')\n",
    "wc[0].set_xlabel(\"Dollar\")"
   ]
  },
  {
   "cell_type": "code",
   "execution_count": null,
   "metadata": {},
   "outputs": [],
   "source": [
    "tmp = pd.to_datetime(df[\"PurchDate\"]).dt.year\n",
    "peryearsr = tmp.value_counts()\n",
    "fgpury = peryearsr.plot(kind='pie', title='PURCHASE YEAR',\n",
    "                         autopct=lambda p: '{:.2f}%({:.0f})'.format(p, (p/100)*peryearsr.sum()), fontsize=14)\n",
    "fgpury.yaxis.set_label_text('')"
   ]
  },
  {
   "cell_type": "code",
   "execution_count": null,
   "metadata": {},
   "outputs": [],
   "source": [
    "dfAuction = df['Auction'].value_counts()\n",
    "print(dfAuction.sum())\n",
    "fgauc = dfAuction.plot(kind='pie', title='AUCTION',\n",
    "               autopct=lambda p: '{:.2f}%({:.0f})'.format(p, (p/100)*dfAuction.sum()))\n",
    "fgauc.yaxis.set_label_text('')"
   ]
  },
  {
   "cell_type": "code",
   "execution_count": null,
   "metadata": {},
   "outputs": [],
   "source": [
    "odo = df['VehOdo'].plot(kind='hist', bins = 200, \n",
    "                                             subplots=True,sharex=True,sharey=True,\n",
    "                                             title='Vehicle odometer')\n",
    "odo[0].set_xlabel(\"Km\")"
   ]
  },
  {
   "cell_type": "code",
   "execution_count": null,
   "metadata": {},
   "outputs": [],
   "source": [
    "modelsr = df['Model'].value_counts()\n",
    "modelsr[:20].plot(kind = 'barh', title = 'MODEL TOP 20')"
   ]
  },
  {
   "cell_type": "code",
   "execution_count": null,
   "metadata": {},
   "outputs": [],
   "source": [
    "isbad = df['IsBadBuy'].value_counts()\n",
    "print(isbad)\n",
    "isbad.index = ['Good buy', 'Bad buy']\n",
    "ibfg = isbad.plot(kind='pie', title='BAD OR GOOD BUY', startangle = 90, \n",
    "                  autopct=lambda p: '{:.2f}%({:.0f})'.format(p, (p/100)*isbad.sum()))\n",
    "ibfg.yaxis.set_label_text(\"\")"
   ]
  },
  {
   "cell_type": "code",
   "execution_count": null,
   "metadata": {
    "scrolled": false
   },
   "outputs": [],
   "source": [
    "onlinesalesr = df['IsOnlineSale'].value_counts()\n",
    "print (onlinesalesr.index)\n",
    "new_index=[\"OFFLINE\", \"ONLINE\"]\n",
    "\n",
    "onlinesalesr.index = new_index\n",
    "print (onlinesalesr)\n",
    "onlfg = onlinesalesr.plot(kind='pie', title='SALE METHOD', startangle = 90, \n",
    "                  autopct=lambda p: '{:.2f}%({:.0f})'.format(p, (p/100)*onlinesalesr.sum()))\n",
    "onlfg.yaxis.set_label_text(\"\")"
   ]
  },
  {
   "cell_type": "code",
   "execution_count": null,
   "metadata": {},
   "outputs": [],
   "source": [
    "wheeltypesr = df['WheelType'].value_counts()\n",
    "print(wheeltypesr)\n",
    "fgwtype = wheeltypesr.plot(kind = 'pie', title ='WHEEL TYPE', \n",
    "                 autopct=lambda p: '{:.2f}%({:.0f})'.format(p, (p/100)*wheeltypesr.sum()))\n",
    "fgwtype.yaxis.set_label_text('')\n",
    "print(df['WheelType'].value_counts())\n",
    "print(wheeltypesr.sum())"
   ]
  },
  {
   "cell_type": "code",
   "execution_count": null,
   "metadata": {},
   "outputs": [],
   "source": [
    "top3Asr = df['TopThreeAmericanName'].value_counts()\n",
    "print(top3Asr)\n",
    "print(top3Asr.sum())\n",
    "fgtop = top3Asr.plot(kind='pie', title='TOP THREE AMERICAN NAME', startangle=40,\n",
    "            autopct=lambda p: '{:.2f}%({:.0f})'.format(p, (p/100)*top3Asr.sum()))\n",
    "fgtop.yaxis.set_label_text('')"
   ]
  },
  {
   "cell_type": "code",
   "execution_count": null,
   "metadata": {},
   "outputs": [],
   "source": [
    "trim = df['Trim'].value_counts()[:20].plot.bar(title = 'TRIM TOP 20')\n",
    "trim.set_ylabel('Number of cars')"
   ]
  },
  {
   "cell_type": "code",
   "execution_count": null,
   "metadata": {},
   "outputs": [],
   "source": [
    "df['Transmission'][df['Transmission'] == 'Manual'] = 'MANUAL'\n",
    "transr = df['Transmission'].value_counts()\n",
    "fgtran = transr.plot(kind='pie', title='TRANSMISSION TYPE', startangle = 90, \n",
    "                    autopct=lambda p: '{:.2f}%({:.0f})'.format(p, (p/100)*transr.sum()))\n",
    "fgtran.yaxis.set_label_text('')"
   ]
  },
  {
   "cell_type": "code",
   "execution_count": null,
   "metadata": {},
   "outputs": [],
   "source": [
    "statesr = df['VNST'].value_counts()\n",
    "print((statesr))\n",
    "st = statesr.plot(kind = 'bar', figsize = (8, 4), title = 'Number car purchased in each state')\n",
    "st.set_ylabel('Number cars')"
   ]
  },
  {
   "cell_type": "markdown",
   "metadata": {},
   "source": [
    "# Data quality evaluation"
   ]
  },
  {
   "cell_type": "markdown",
   "metadata": {},
   "source": [
    "## Missing value"
   ]
  },
  {
   "cell_type": "code",
   "execution_count": null,
   "metadata": {
    "scrolled": false
   },
   "outputs": [],
   "source": [
    "import math \n",
    "dfnumnull = df.isnull().sum()/len(df)*100\n",
    "dfnumnull = dfnumnull[dfnumnull != 0]\n",
    "\n",
    "\n",
    "nullfg = dfnumnull.plot(kind='barh', figsize = (6, 5))\n",
    "\n",
    "for p in nullfg.patches:\n",
    "    print(p)\n",
    "    nullfg.annotate(str(round(p.get_width(), 3)), (p.get_width()*1.005, p.get_y()))"
   ]
  },
  {
   "cell_type": "code",
   "execution_count": null,
   "metadata": {
    "scrolled": false
   },
   "outputs": [],
   "source": [
    "dfZeroPrice = pd.DataFrame(data = {'Number of zero values' : [len(df['MMRAcquisitionAuctionAveragePrice'][df['MMRAcquisitionAuctionAveragePrice'] == 0]), \n",
    "                             len(df['MMRAcquisitionAuctionCleanPrice'][df['MMRAcquisitionAuctionCleanPrice'] == 0]), \n",
    "                             len(df['MMRAcquisitionRetailAveragePrice'][df['MMRAcquisitionRetailAveragePrice'] == 0]), \n",
    "                             len(df['MMRAcquisitonRetailCleanPrice'][df['MMRAcquisitonRetailCleanPrice'] == 0]), \n",
    "                             len(df['MMRCurrentAuctionAveragePrice'][df['MMRCurrentAuctionAveragePrice'] == 0]), \n",
    "                             len(df['MMRCurrentAuctionCleanPrice'][df['MMRCurrentAuctionCleanPrice'] == 0]), \n",
    "                             len(df['MMRCurrentRetailAveragePrice'][df['MMRCurrentRetailAveragePrice'] == 0]), \n",
    "                             len(df['MMRCurrentRetailCleanPrice'][df['MMRCurrentRetailCleanPrice'] == 0])]}, \n",
    "                          index = ['AcquisitionAuctionAveragePrice', \n",
    "                                   'AcquisitionAuctionCleanPrice',\n",
    "                                   'AcquisitionRetailAveragePrice', \n",
    "                                   'AcquisitionRetailCleanPrice',\n",
    "                                   'CurrentAuctionAveragePrice', \n",
    "                                   'CurrentAuctionCleanPrice',\n",
    "                                   'CurrentRetailAveragePrice', \n",
    "                                   'CurrentRetailCleanPrice'])\n",
    "print(dfZeroPrice)\n",
    "fgzeroprice = dfZeroPrice.plot(kind = 'bar')\n",
    "plt.setp(fgzeroprice.get_xticklabels(), rotation=20, ha ='right')"
   ]
  },
  {
   "cell_type": "markdown",
   "metadata": {},
   "source": [
    "## Outliers"
   ]
  },
  {
   "cell_type": "code",
   "execution_count": null,
   "metadata": {},
   "outputs": [],
   "source": [
    "pbfigure, pbox = pd.DataFrame.boxplot(df, column=['MMRAcquisitionAuctionAveragePrice', 'MMRAcquisitionAuctionCleanPrice',\n",
    "                          'MMRAcquisitionRetailAveragePrice', 'MMRAcquisitonRetailCleanPrice', \n",
    "                          'MMRCurrentAuctionAveragePrice', 'MMRCurrentAuctionCleanPrice', \n",
    "                          'MMRCurrentRetailAveragePrice', 'MMRCurrentRetailCleanPrice', ],\n",
    "                          figsize = (11, 5), return_type='both')\n",
    "priceooutliers = [flier.get_ydata() for flier in pbox[\"fliers\"]]\n",
    "plt.setp(pbfigure.get_xticklabels(), rotation=20, ha ='right')\n",
    "text = 'Number outliers.\\n' \n",
    "text += str('MMRAcquisitionAuctionAveragePrice: ')+str(len(priceooutliers[0]))+'\\n'\n",
    "text += str('MMRAcquisitionAuctionCleanPrice: ')+str(len(priceooutliers[1]))+'\\n'\n",
    "text += str('MMRAcquisitionRetailAveragePrice: ')+str(len(priceooutliers[2]))+'\\n'\n",
    "text += str('MMRAcquisitonRetailCleanPrice: ')+str(len(priceooutliers[3]))+'\\n'\n",
    "text += str('MMRCurrentAuctionAveragePrice: ')+str(len(priceooutliers[4]))+'\\n'\n",
    "text += str('MMRCurrentAuctionCleanPrice: ')+str(len(priceooutliers[5]))+'\\n'\n",
    "text += str('MMRCurrentRetailAveragePrice: ')+str(len(priceooutliers[6]))+'\\n'\n",
    "text += str('MMRCurrentRetailCleanPrice: ')+str(len(priceooutliers[7]))\n",
    "plt.text(8.6, 1, text)"
   ]
  },
  {
   "cell_type": "code",
   "execution_count": null,
   "metadata": {},
   "outputs": [],
   "source": [
    "_, odooulier = pd.DataFrame.boxplot(df, column = ['VehOdo'], figsize = [4, 2], \n",
    "                                                   vert = False, return_type = 'both')\n",
    "odooutliers = [flier.get_ydata() for flier in odooulier[\"fliers\"]]\n",
    "plt.text(1, 0, 'Number outlier VehOdo: ' + str(len(odooutlier[0])))"
   ]
  },
  {
   "cell_type": "code",
   "execution_count": null,
   "metadata": {},
   "outputs": [],
   "source": [
    "_, ageoutlier = pd.DataFrame.boxplot(df, column = ['VehicleAge'], figsize = [4, 2], vert = False, return_type='both')\n",
    "ageouliers = [flier.get_ydata() for flier in ageoutlier[\"fliers\"]]\n",
    "plt.text(0, 0, 'Number outlier VehicleAge: ' + str(len(ageouliers[0])))"
   ]
  },
  {
   "cell_type": "code",
   "execution_count": null,
   "metadata": {},
   "outputs": [],
   "source": [
    "_, vbcostoutlier = pd.DataFrame.boxplot(df, column = ['VehBCost'], figsize = [5, 2], \n",
    "                                        vert = False, return_type='both')\n",
    "vbcostoutliers = [flier.get_ydata() for flier in vbcostoutlier[\"fliers\"]]\n",
    "plt.text(0, 0, 'Number outlier VehBCost: ' + str(len(vbcostoutliers[0])))"
   ]
  },
  {
   "cell_type": "code",
   "execution_count": null,
   "metadata": {},
   "outputs": [],
   "source": [
    "_, wartoutlier = pd.DataFrame.boxplot(df, column = ['WarrantyCost'], figsize = [5, 2], \n",
    "                                        vert = False, return_type='both')\n",
    "wartoutliers = [flier.get_ydata() for flier in wartoutlier[\"fliers\"]]\n",
    "plt.text(0, 0, 'Number outlier WarrantyCost: ' + str(len(wartoutliers[0])))"
   ]
  },
  {
   "cell_type": "markdown",
   "metadata": {},
   "source": [
    "## Drop missing values and outliers "
   ]
  },
  {
   "cell_type": "code",
   "execution_count": null,
   "metadata": {},
   "outputs": [],
   "source": [
    "# drop columns AUCGUART and PRIMEUNIT first \n",
    "dfrefine = df.drop(columns = ['AUCGUART', 'PRIMEUNIT'])\n",
    "print(dfrefine.columns)\n",
    "dfrefine = dfrefine.dropna()\n",
    "print(len(dfrefine))\n",
    "\n",
    "# drop outliers of VehBCost \n",
    "Q3VehBCost = df['VehBCost'].quantile(0.75)\n",
    "Q1VehBCost = df['VehBCost'].quantile(0.25)\n",
    "IQR_VehBCost = Q3VehBCost - Q1VehBCost\n",
    "print(IQR_VehBCost)\n",
    "filterVehBCost = (df['VehBCost'] >= Q1VehBCost - 1.5*IQR_VehBCost) & (df['VehBCost'] <= Q3VehBCost + 1.5*IQR_VehBCost)\n",
    "dfrefine = dfrefine.loc[filterVehBCost]\n",
    "\n",
    "# drop outliers of VehOdo \n",
    "Q3VehOdo = df['VehOdo'].quantile(0.75)\n",
    "Q1VehOdo = df['VehOdo'].quantile(0.25)\n",
    "IQR_VehOdo = Q3VehOdo - Q1VehOdo\n",
    "print(IQR_VehOdo)\n",
    "filterVehOdo = (df['VehOdo'] >= Q1VehOdo - 1.5*IQR_VehOdo) & (df['VehOdo'] <= Q3VehOdo + 1.5*IQR_VehOdo)\n",
    "dfrefine = dfrefine.loc[filterVehOdo]\n",
    "\n",
    "# drop outliers of VehicleAge \n",
    "Q1VehicleAge = df['VehicleAge'].quantile(0.25)\n",
    "Q3VehicleAge = df['VehicleAge'].quantile(0.75)\n",
    "IQR_VehicleAge = Q3VehicleAge - Q1VehicleAge\n",
    "print(IQR_VehicleAge)\n",
    "filterVehicleAge = (df['VehicleAge'] >= Q1VehicleAge - 1.5*IQR_VehicleAge) & (df['VehicleAge'] <= Q3VehicleAge + 1.5*IQR_VehicleAge)\n",
    "dfrefine =  dfrefine.loc[filterVehicleAge]\n",
    "\n",
    "# drop outliers of VehicleAge \n",
    "Q1WarrantyCost = df['WarrantyCost'].quantile(0.25)\n",
    "Q3WarrantyCost = df['WarrantyCost'].quantile(0.75)\n",
    "IQR_WarrantyCost = Q3WarrantyCost - Q1WarrantyCost\n",
    "print(IQR_WarrantyCost)\n",
    "filterWarrantyCost = (df['WarrantyCost'] >= Q1WarrantyCost - 1.5*IQR_WarrantyCost) & (df['WarrantyCost'] <= Q3WarrantyCost + 1.5*IQR_WarrantyCost)\n",
    "dfrefine = dfrefine.loc[filterWarrantyCost]\n",
    "\n",
    "#define outliers of MMRAcquisitionAuctionAveragePrice\n",
    "Q1AAAP = df['MMRAcquisitionAuctionAveragePrice'].quantile(0.25)\n",
    "Q3AAAP = df['MMRAcquisitionAuctionAveragePrice'].quantile(0.75)\n",
    "IQR_AAAP = Q3AAAP - Q1AAAP\n",
    "print(IQR_AAAP)\n",
    "filterAAAP = (df['MMRAcquisitionAuctionAveragePrice'] >= Q1AAAP - 1.5*IQR_AAAP) & (df['MMRAcquisitionAuctionAveragePrice'] <= Q3AAAP + 1.5*IQR_AAAP)\n",
    "dfrefine = dfrefine.loc[filterAAAP]\n",
    "\n",
    "#define outliers of MMRAcquisitionAuctionCleanPrice\n",
    "Q1AACP = df['MMRAcquisitionAuctionCleanPrice'].quantile(0.25)\n",
    "Q3AACP = df['MMRAcquisitionAuctionCleanPrice'].quantile(0.75)\n",
    "IQR_AACP = Q3AACP - Q1AACP\n",
    "print(IQR_AACP)\n",
    "filterAACP = (df['MMRAcquisitionAuctionCleanPrice'] >= Q1AACP - 1.5*IQR_AACP) & (df['MMRAcquisitionAuctionCleanPrice'] <= Q3AACP + 1.5*IQR_AACP)\n",
    "dfrefine = dfrefine.loc[filterAACP]\n",
    "\n",
    "#define outliers of MMRAcquisitonRetailCleanPrice\n",
    "Q1ARCP = df['MMRAcquisitonRetailCleanPrice'].quantile(0.25)\n",
    "Q3ARCP = df['MMRAcquisitonRetailCleanPrice'].quantile(0.75)\n",
    "IQR_ARCP = Q3ARCP - Q1ARCP\n",
    "print(IQR_ARCP)\n",
    "filterARCP = (df['MMRAcquisitonRetailCleanPrice'] >= Q1ARCP - 1.5*IQR_ARCP) & (df['MMRAcquisitonRetailCleanPrice'] <= Q3ARCP + 1.5*IQR_ARCP)\n",
    "dfrefine = dfrefine.loc[filterARCP]\n",
    "\n",
    "#define outliers of MMRAcquisitonRetailCleanPrice\n",
    "Q1ARAP = df['MMRAcquisitionRetailAveragePrice'].quantile(0.25)\n",
    "Q3ARAP = df['MMRAcquisitionRetailAveragePrice'].quantile(0.75)\n",
    "IQR_ARAP = Q3ARAP - Q1ARAP\n",
    "print(IQR_ARAP)\n",
    "filterARAP = (df['MMRAcquisitionRetailAveragePrice'] >= Q1ARAP - 1.5*IQR_ARAP) & (df['MMRAcquisitionRetailAveragePrice'] <= Q3ARAP + 1.5*IQR_ARAP)\n",
    "dfrefine = dfrefine.loc[filterARAP]\n",
    "\n",
    "#define outliers of MMRCurrentAuctionAveragePrice\n",
    "Q1CAAP = df['MMRCurrentAuctionAveragePrice'].quantile(0.25)\n",
    "Q3CAAP = df['MMRCurrentAuctionAveragePrice'].quantile(0.75)\n",
    "IQR_CAAP = Q3CAAP - Q1CAAP\n",
    "print(IQR_CAAP)\n",
    "filterCAAP = (df['MMRCurrentAuctionAveragePrice'] >= Q1CAAP - 1.5*IQR_CAAP) & (df['MMRCurrentAuctionAveragePrice'] <= Q3CAAP + 1.5*IQR_CAAP)\n",
    "dfrefine = dfrefine.loc[filterCAAP]\n",
    "\n",
    "#define outliers of MMRCurrentAuctionCleanPrice\n",
    "Q1CACP = df['MMRCurrentAuctionCleanPrice'].quantile(0.25)\n",
    "Q3CACP = df['MMRCurrentAuctionCleanPrice'].quantile(0.75)\n",
    "IQR_CACP = Q3CACP - Q1CACP\n",
    "print(IQR_CACP)\n",
    "filterCACP = (df['MMRCurrentAuctionCleanPrice'] >= Q1CACP - 1.5*IQR_CACP) & (df['MMRCurrentAuctionCleanPrice'] <= Q3CACP + 1.5*IQR_CACP)\n",
    "dfrefine = dfrefine.loc[filterCACP]\n",
    "\n",
    "#define outliers of MMRCurrentRetailAveragePrice\n",
    "Q1CRAP = df['MMRCurrentRetailAveragePrice'].quantile(0.25)\n",
    "Q3CRAP = df['MMRCurrentRetailAveragePrice'].quantile(0.75)\n",
    "IQR_CRAP = Q3CRAP - Q1CRAP\n",
    "print(IQR_CRAP)\n",
    "filterCRAP = (df['MMRCurrentRetailAveragePrice'] >= Q1CRAP - 1.5*IQR_CRAP) & (df['MMRCurrentRetailAveragePrice'] <= Q3CRAP + 1.5*IQR_CRAP)\n",
    "dfrefine = dfrefine.loc[filterCRAP]\n",
    "\n",
    "#define outliers of MMRCurrentRetailCleanPrice\n",
    "Q1CRCP = df['MMRCurrentRetailCleanPrice'].quantile(0.25)\n",
    "Q3CRCP = df['MMRCurrentRetailCleanPrice'].quantile(0.75)\n",
    "IQR_CRCP = Q3CRCP - Q1CRCP\n",
    "print(IQR_CRCP)\n",
    "filterCRCP = (df['MMRCurrentRetailCleanPrice'] >= Q1CRCP - 1.5*IQR_CRCP) & (df['MMRCurrentRetailCleanPrice'] <= Q3CRCP + 1.5*IQR_CRCP)\n",
    "dfrefine = dfrefine.loc[filterCRCP]\n",
    "\n",
    "print(len(dfrefine))\n",
    "\n",
    "filterCatData = (dfrefine['Nationality'] == 'OTHER') | (dfrefine['VehYear'] == 2010) | (dfrefine['Color'] == 'OTHER') | (dfrefine['Color'] == 'NOT AVAIL')\n",
    "filterCatData = ~filterCatData\n",
    "dfrefine = dfrefine.loc[filterCatData]\n",
    "print(len(dfrefine))\n"
   ]
  },
  {
   "cell_type": "markdown",
   "metadata": {},
   "source": [
    "# Pairwise correlation"
   ]
  },
  {
   "cell_type": "code",
   "execution_count": null,
   "metadata": {},
   "outputs": [],
   "source": [
    "# Firstly, use LableEncoder to convert some categorical attribute to numerical attribute \n",
    "# Drop PurchDate column, add column PurchMonth, PurchYear\n",
    "\n",
    "from sklearn.preprocessing import LabelEncoder \n",
    "dfle = dfrefine.copy()\n",
    "dfle['PurchMonth'] = pd.DatetimeIndex(dfrefine['PurchDate']).month\n",
    "dfle['PurchYear'] = pd.DatetimeIndex(dfrefine['PurchDate']).year\n",
    "dfle = dfle.drop(columns=['PurchDate'])\n",
    "dfle = dfle.apply(LabelEncoder().fit_transform)\n",
    "dfle.head()"
   ]
  },
  {
   "cell_type": "code",
   "execution_count": null,
   "metadata": {
    "scrolled": false
   },
   "outputs": [],
   "source": [
    "attList = dfle.columns.tolist()\n",
    "excls = ['MMRAcquisitionAuctionAveragePrice',\n",
    "       'MMRAcquisitionAuctionCleanPrice', 'MMRAcquisitionRetailAveragePrice',\n",
    "       'MMRAcquisitonRetailCleanPrice', 'MMRCurrentAuctionAveragePrice',\n",
    "       'MMRCurrentAuctionCleanPrice', 'MMRCurrentRetailAveragePrice',\n",
    "       'MMRCurrentRetailCleanPrice', 'VehBCost','WarrantyCost']\n",
    "for excl in excls:\n",
    "    attList.remove(excl)\n",
    "\n",
    "attList.remove('RefId')\n",
    "\n",
    "pwCorr = dfle[attList].corr()\n",
    "pwcorrfg, axpwc = plt.subplots(figsize = (11, 11))\n",
    "impwc = axpwc.imshow(pwCorr)\n",
    "axpwc.set_xticks(np.arange(len(attList)))\n",
    "axpwc.set_yticks(np.arange(len(attList)))\n",
    "\n",
    "axpwc.set_xticklabels(attList)\n",
    "axpwc.set_yticklabels(attList)\n",
    "plt.setp(axpwc.get_xticklabels(), rotation=20, ha ='right')\n",
    "\n",
    "for edge, spine in axpwc.spines.items():\n",
    "    spine.set_visible(False)\n",
    "\n",
    "axpwc.set_xticks(np.arange(len(attList)+1)-.5, minor=True)\n",
    "axpwc.set_yticks(np.arange(len(attList)+1)-.5, minor=True)\n",
    "axpwc.grid(which=\"minor\", color=\"w\", linestyle='-', linewidth=3)\n",
    "axpwc.tick_params(which=\"minor\", bottom=False, left=False)\n",
    "# print(type(corPrice))\n",
    "count = 0\n",
    "for i in range(len(attList)):\n",
    "    for j in range(len(attList)):\n",
    "#         print(corPrice[i][j])\n",
    "        text = axpwc.text(j, i, round(pwCorr[attList[i]][attList[j]], 2), ha = 'center', va ='center', color = \"r\")"
   ]
  },
  {
   "cell_type": "code",
   "execution_count": null,
   "metadata": {
    "scrolled": false
   },
   "outputs": [],
   "source": [
    "corPrice = dfle[['MMRAcquisitionAuctionAveragePrice',\n",
    "    'MMRAcquisitionAuctionCleanPrice',\n",
    "    'MMRAcquisitionRetailAveragePrice',\n",
    "    'MMRAcquisitonRetailCleanPrice', \n",
    "    'MMRCurrentAuctionAveragePrice',\n",
    "    'MMRCurrentAuctionCleanPrice',\n",
    "    'MMRCurrentRetailAveragePrice',\n",
    "    'MMRCurrentRetailCleanPrice', \n",
    "    'VehBCost', \n",
    "    'WarrantyCost']].corr()\n",
    "priceIndex = ['MMRAcquisitionAuctionAveragePrice',\n",
    "    'MMRAcquisitionAuctionCleanPrice',\n",
    "    'MMRAcquisitionRetailAveragePrice',\n",
    "    'MMRAcquisitonRetailCleanPrice', \n",
    "    'MMRCurrentAuctionAveragePrice',\n",
    "    'MMRCurrentAuctionCleanPrice',\n",
    "    'MMRCurrentRetailAveragePrice',\n",
    "    'MMRCurrentRetailCleanPrice', \n",
    "    'VehBCost', \n",
    "    'WarrantyCost']\n",
    "print(type(corPrice))\n",
    "corpricefig, ax = plt.subplots(figsize = (7, 7))\n",
    "im = ax.imshow(corPrice)\n",
    "ax.set_xticks(np.arange(len(priceIndex)))\n",
    "ax.set_yticks(np.arange(len(priceIndex)))\n",
    "\n",
    "ax.set_xticklabels(priceIndex)\n",
    "ax.set_yticklabels(priceIndex)\n",
    "\n",
    "plt.setp(ax.get_xticklabels(), rotation=20, ha ='right')\n",
    "\n",
    "for edge, spine in ax.spines.items():\n",
    "        spine.set_visible(False)\n",
    "\n",
    "ax.set_xticks(np.arange(len(priceIndex)+1)-.5, minor=True)\n",
    "ax.set_yticks(np.arange(len(priceIndex)+1)-.5, minor=True)\n",
    "ax.grid(which=\"minor\", color=\"w\", linestyle='-', linewidth=3)\n",
    "ax.tick_params(which=\"minor\", bottom=False, left=False)\n",
    "# print(type(corPrice))\n",
    "count = 0\n",
    "for i in range(len(priceIndex)):\n",
    "    for j in range(len(priceIndex)):\n",
    "#         print(corPrice[i][j])\n",
    "        text = ax.text(j, i, round(corPrice[priceIndex[i]][priceIndex[j]], 2), ha = 'center', va ='center', color = \"r\")"
   ]
  },
  {
   "cell_type": "markdown",
   "metadata": {},
   "source": [
    "## Drop redundant attribute "
   ]
  },
  {
   "cell_type": "code",
   "execution_count": null,
   "metadata": {},
   "outputs": [],
   "source": [
    "dfrefine = dfrefine.drop(columns = ['VehicleAge', 'WheelType', 'MMRAcquisitionAuctionCleanPrice',\n",
    "                             'MMRCurrentAuctionAveragePrice', 'MMRCurrentAuctionCleanPrice', \n",
    "                             'MMRCurrentRetailAveragePrice', 'MMRCurrentRetailCleanPrice'])\n",
    "dfrefine['PurchMonth'] = pd.DatetimeIndex(dfrefine['PurchDate']).month\n",
    "dfrefine['PurchYear'] = pd.DatetimeIndex(dfrefine['PurchDate']).year\n",
    "dfrefine = dfrefine.drop(columns=['PurchDate'])\n",
    "print(dfrefine.columns)"
   ]
  },
  {
   "cell_type": "code",
   "execution_count": null,
   "metadata": {},
   "outputs": [],
   "source": [
    "dfrefine.describe()"
   ]
  },
  {
   "cell_type": "markdown",
   "metadata": {},
   "source": [
    "# Data preparation for clustering"
   ]
  },
  {
   "cell_type": "code",
   "execution_count": null,
   "metadata": {},
   "outputs": [],
   "source": [
    "dfCluster = dfrefine.drop(columns =['RefId', 'Model', 'Trim', 'SubModel', 'BYRNO', 'VNZIP1'])"
   ]
  },
  {
   "cell_type": "code",
   "execution_count": null,
   "metadata": {},
   "outputs": [],
   "source": [
    "dfCluster.columns\n",
    "dfDummyCluster = pd.get_dummies(dfCluster, columns=['Auction', 'VehYear', 'Make', 'Color', 'Transmission',\n",
    "       'WheelTypeID', 'Nationality', 'Size', 'TopThreeAmericanName',\n",
    "       'VNST', 'PurchMonth', 'PurchYear'])"
   ]
  },
  {
   "cell_type": "code",
   "execution_count": null,
   "metadata": {},
   "outputs": [],
   "source": [
    "dfDummyCluster.columns"
   ]
  },
  {
   "cell_type": "code",
   "execution_count": null,
   "metadata": {},
   "outputs": [],
   "source": [
    "dfrohnorminmax = (dfDummyCluster - dfDummyCluster.min())/(dfDummyCluster.max() - dfDummyCluster.min())"
   ]
  },
  {
   "cell_type": "code",
   "execution_count": null,
   "metadata": {},
   "outputs": [],
   "source": [
    "dfrohnorminmax.head()"
   ]
  },
  {
   "cell_type": "code",
   "execution_count": null,
   "metadata": {},
   "outputs": [],
   "source": [
    "# Apply PCA to reduce number of dimension \n",
    "import numpy as np\n",
    "from sklearn.decomposition import PCA\n",
    "pca = PCA(n_components = 0.95)\n",
    "pca.fit(dfrohnorminmax)"
   ]
  },
  {
   "cell_type": "code",
   "execution_count": null,
   "metadata": {},
   "outputs": [],
   "source": [
    "pcaData = pca.transform(dfrohnorminmax) "
   ]
  },
  {
   "cell_type": "code",
   "execution_count": null,
   "metadata": {},
   "outputs": [],
   "source": [
    "print(pcaData.shape)"
   ]
  },
  {
   "cell_type": "code",
   "execution_count": null,
   "metadata": {},
   "outputs": [],
   "source": [
    "print(pcaData)"
   ]
  },
  {
   "cell_type": "markdown",
   "metadata": {},
   "source": [
    "# Clustering"
   ]
  },
  {
   "cell_type": "markdown",
   "metadata": {},
   "source": [
    "## K-Means"
   ]
  },
  {
   "cell_type": "markdown",
   "metadata": {},
   "source": [
    "### Choose the number of clusters "
   ]
  },
  {
   "cell_type": "code",
   "execution_count": null,
   "metadata": {},
   "outputs": [],
   "source": [
    "from sklearn.cluster import KMeans\n",
    "ssd_auto =[]\n",
    "n_c = range(1, 50)\n",
    "for i in n_c:\n",
    "    km = KMeans(n_clusters=i, verbose = 2, n_jobs=-1)\n",
    "    km = km.fit(pcaData)\n",
    "    ssd_auto.append(km.inertia_)"
   ]
  },
  {
   "cell_type": "code",
   "execution_count": null,
   "metadata": {},
   "outputs": [],
   "source": [
    "ssd_full =[]\n",
    "n_ch = range(1, 50)\n",
    "for i in n_ch:\n",
    "    kmfull = KMeans(n_clusters=i, verbose = 2, n_jobs=-1, algorithm='full')\n",
    "    kmfull = kmfull.fit(pcaData)\n",
    "    ssd_full.append(kmfull.inertia_)"
   ]
  },
  {
   "cell_type": "code",
   "execution_count": null,
   "metadata": {},
   "outputs": [],
   "source": [
    "ssd_elkan =[]\n",
    "n_ch = range(1, 50)\n",
    "for i in n_ch:\n",
    "    kmelkan = KMeans(n_clusters=i, verbose = 2, n_jobs=-1, algorithm='elkan')\n",
    "    kmelkan = kmelkan.fit(pcaData)\n",
    "    ssd_elkan.append(kmelkan.inertia_)"
   ]
  },
  {
   "cell_type": "code",
   "execution_count": null,
   "metadata": {},
   "outputs": [],
   "source": [
    "print(ssd_auto)\n",
    "print(ssd_full)\n",
    "print(ssd_elkan)"
   ]
  },
  {
   "cell_type": "code",
   "execution_count": null,
   "metadata": {},
   "outputs": [],
   "source": [
    "plt.plot (n_ch, ssd_auto)\n",
    "plt.plot (n_ch, ssd_full)\n",
    "plt.plot (n_ch, ssd_elkan)\n",
    "plt.xlabel('Number of clusters')\n",
    "plt.title('Sum squared distance for several number of clusters by KMean')\n",
    "plt.legend(['Auto', 'Full', 'Elkan'])\n",
    "plt.show"
   ]
  },
  {
   "cell_type": "markdown",
   "metadata": {},
   "source": [
    "### Cluster data with 20 clusters "
   ]
  },
  {
   "cell_type": "code",
   "execution_count": null,
   "metadata": {},
   "outputs": [],
   "source": [
    "from sklearn.cluster import KMeans\n",
    "km10clusters = KMeans(n_clusters=10)\n",
    "km10clusters = km10clusters.fit(pcaData)"
   ]
  },
  {
   "cell_type": "code",
   "execution_count": null,
   "metadata": {},
   "outputs": [],
   "source": [
    "dfDummyCluster['kmeans_label'] = km10clusters.labels_"
   ]
  },
  {
   "cell_type": "code",
   "execution_count": null,
   "metadata": {},
   "outputs": [],
   "source": [
    "clusters = []\n",
    "clusterSize = []\n",
    "for i in range(10):\n",
    "    cluster = dfCluster[dfDummyCluster['kmeans_label']==i]\n",
    "    cluster['kmeans_label'] = str(i)\n",
    "    clusters.append(cluster)\n",
    "    clusterSize.append(len(cluster))"
   ]
  },
  {
   "cell_type": "code",
   "execution_count": null,
   "metadata": {
    "scrolled": false
   },
   "outputs": [],
   "source": [
    "plt.figure(figsize = (11, 5))\n",
    "clusterID = ['0', '1', '2', '3', '4', '5', '6', '7', '8', '9']\n",
    "fig = plt.figure()\n",
    "ax = fig.add_axes([0,0,1,1])\n",
    "ax.bar(clusterID,clusterSize)\n",
    "plt.xlabel('Cluster ID')\n",
    "plt.ylabel('Size of cluster')\n",
    "plt.show()"
   ]
  },
  {
   "cell_type": "code",
   "execution_count": null,
   "metadata": {
    "scrolled": true
   },
   "outputs": [],
   "source": [
    "cid = 0\n",
    "numAttr = ['MMRAcquisitionAuctionAveragePrice', 'MMRAcquisitionRetailAveragePrice',\n",
    "           'MMRAcquisitonRetailCleanPrice', 'VehBCost', 'WarrantyCost', 'VehOdo']\n",
    "catAttr = ['IsBadBuy', 'Auction', 'VehYear', 'Make', 'Color', 'Transmission', 'WheelTypeID',\n",
    "           'Nationality', 'Size', 'TopThreeAmericanName', 'VNST','IsOnlineSale', 'PurchMonth', 'PurchYear', 'kmeans_label']\n",
    "for cluster in clusters:\n",
    "    print(\"Cluster\", cid)\n",
    "    cid += 1\n",
    "    for attr in numAttr:\n",
    "        print(attr, cluster[attr].mean())\n",
    "        print('\\n')\n",
    "    for attr in catAttr: \n",
    "        print(attr)\n",
    "        if len(cluster[attr].value_counts()) > 10:\n",
    "            print(cluster[attr].value_counts()[0:10])\n",
    "        else:\n",
    "            print(cluster[attr].value_counts())\n",
    "        print('\\n')\n",
    "    print('\\n\\n')"
   ]
  },
  {
   "cell_type": "code",
   "execution_count": null,
   "metadata": {},
   "outputs": [],
   "source": [
    "centers = km10clusters.cluster_centers_\n",
    "plt.figure(figsize=(15, 4))\n",
    "for i in range(len(centers)):\n",
    "    plt.plot(centers[i], marker='o', label='Cluster %s'% i)\n",
    "plt.title(\"Centers of 10 clusters with all features\")\n",
    "    "
   ]
  },
  {
   "cell_type": "code",
   "execution_count": null,
   "metadata": {},
   "outputs": [],
   "source": [
    "centers = km10clusters.cluster_centers_\n",
    "centerstop25 = centers[:, 0:25]\n",
    "plt.figure(figsize=(15, 4))\n",
    "for i in range(len(centers)):\n",
    "    plt.plot(centerstop25[i], marker='o', label='Cluster %s'% i)\n",
    "plt.title(\"Centers of 10 clusters with top 25 well separated features\")"
   ]
  },
  {
   "cell_type": "code",
   "execution_count": null,
   "metadata": {},
   "outputs": [],
   "source": [
    "dfCluster.columns"
   ]
  },
  {
   "cell_type": "code",
   "execution_count": 507,
   "metadata": {},
   "outputs": [
    {
     "data": {
      "image/png": "[encoded data removed]",
      "text/plain": [
       "<Figure size 432x288 with 1 Axes>"
      ]
     },
     "metadata": {},
     "output_type": "display_data"
    }
   ],
   "source": [
    "dfrefine['WarrantyCost'].plot(kind='kde')\n",
    "plt.legend('Whole data')\n",
    "for cluster in clusters:\n",
    "    cluster['WarrantyCost'].plot(kind='kde')\n",
    "plt.title('WarrantyCost plot by clusters and the whole data')\n",
    "plt.xlabel('Price')\n",
    "plt.show()"
   ]
  },
  {
   "cell_type": "code",
   "execution_count": null,
   "metadata": {},
   "outputs": [],
   "source": [
    "import seaborn as sns\n",
    "import matplotlib.pyplot as plt\n",
    "sns.set(style=\"ticks\", color_codes=True)\n",
    "\n",
    "for cluster in clusters:\n",
    "    plt.scatter(cluster['kmeans_label'], cluster['Size'])\n",
    "plt.title('Size plot by clusters')\n",
    "plt.xlabel('Cluster')\n",
    "plt.show()"
   ]
  },
  {
   "cell_type": "markdown",
   "metadata": {},
   "source": [
    "## Hirarchical clustering"
   ]
  },
  {
   "cell_type": "code",
   "execution_count": null,
   "metadata": {},
   "outputs": [],
   "source": [
    "import pandas as pd\n",
    "import numpy as np\n",
    "import matplotlib.pyplot as plt\n",
    "from sklearn.cluster import AgglomerativeClustering\n",
    "from sklearn.metrics import silhouette_score\n",
    "from sklearn.preprocessing import StandardScaler\n",
    "\n",
    "silhouettes = []\n",
    "n_c_hir = range(2, 10)\n",
    "subPcaData = pcaData[0:10000]\n",
    "for i in n_c_hir:\n",
    "    clusterer = AgglomerativeClustering(n_clusters=i,\n",
    "                                         affinity='euclidean',\n",
    "                                         linkage='ward')\n",
    "    clusterer = clusterer.fit(subPcaData)\n",
    "    silhouette = silhouette_score(subPcaData, clusterer.labels_)\n",
    "    silhouettes.append(silhouette)"
   ]
  },
  {
   "cell_type": "code",
   "execution_count": null,
   "metadata": {},
   "outputs": [],
   "source": [
    "plt.plot(range(2, 10), silhouettes)\n",
    "plt.xticks(range(1, 11))\n",
    "plt.title('Silhouette with ward linkage')\n",
    "plt.xlabel('Number of clusters')\n",
    "plt.ylabel('Silhouette')\n",
    "plt.show()"
   ]
  },
  {
   "cell_type": "code",
   "execution_count": null,
   "metadata": {},
   "outputs": [],
   "source": [
    "import scipy.cluster\n",
    "from scipy.spatial.distance import pdist\n",
    "from scipy.cluster.hierarchy import linkage,dendrogram\n",
    "import matplotlib.pyplot as plt\n",
    "\n",
    "data_dist = pdist(subPcaData , metric='euclidean')\n",
    "data_link = linkage(data_dist, method='complete', metric='euclidean')\n",
    "res = dendrogram(data_link, color_threshold=0.2, truncate_mode='lastp')\n",
    "plt.title('Dendrogram with complete linkage')"
   ]
  },
  {
   "cell_type": "code",
   "execution_count": null,
   "metadata": {},
   "outputs": [],
   "source": [
    "import scipy.cluster\n",
    "from scipy.spatial.distance import pdist\n",
    "from scipy.cluster.hierarchy import linkage,dendrogram\n",
    "import matplotlib.pyplot as plt\n",
    "\n",
    "data_dist = pdist(subPcaData , metric='euclidean')\n",
    "data_link = linkage(data_dist, method='single', metric='euclidean')\n",
    "res = dendrogram(data_link, color_threshold=0.2, truncate_mode='lastp')\n",
    "plt.title('Dendrogram with single linkage')"
   ]
  },
  {
   "cell_type": "code",
   "execution_count": null,
   "metadata": {},
   "outputs": [],
   "source": [
    "import scipy.cluster\n",
    "from scipy.spatial.distance import pdist\n",
    "from scipy.cluster.hierarchy import linkage,dendrogram\n",
    "import matplotlib.pyplot as plt\n",
    "\n",
    "data_dist = pdist(subPcaData , metric='euclidean')\n",
    "data_link = linkage(data_dist, method='ward', metric='euclidean')\n",
    "res = dendrogram(data_link, color_threshold=0.2, truncate_mode='lastp')\n",
    "plt.title('Dendrogram with ward linkage')"
   ]
  },
  {
   "cell_type": "markdown",
   "metadata": {},
   "source": [
    "## DBSCAN"
   ]
  },
  {
   "cell_type": "code",
   "execution_count": null,
   "metadata": {},
   "outputs": [],
   "source": [
    "from sklearn.cluster import DBSCAN\n",
    "\n",
    "clusterer = DBSCAN(eps = 2.5, min_samples= 180) \n",
    "clusterer.fit(pcaData)"
   ]
  },
  {
   "cell_type": "code",
   "execution_count": null,
   "metadata": {},
   "outputs": [],
   "source": [
    "dfCluster['DBSCAN'] = clusterer.labels_\n",
    "dfCluster['DBSCAN'].value_counts()"
   ]
  },
  {
   "cell_type": "code",
   "execution_count": null,
   "metadata": {},
   "outputs": [],
   "source": [
    "outliersCluster = dfCluster[dfCluster['DBSCAN'] == -1]\n",
    "inlinersCluster = dfCluster[dfCluster['DBSCAN'] == 0]\n",
    "print (len(outliersCluster))\n",
    "print (len(inlinersCluster))\n",
    "outliersCluster['DBSCAN'] = str(-1)\n",
    "inlinersCluster['DBSCAN'] = str(0)"
   ]
  },
  {
   "cell_type": "code",
   "execution_count": null,
   "metadata": {},
   "outputs": [],
   "source": [
    "print(outliersCluster.columns)"
   ]
  },
  {
   "cell_type": "code",
   "execution_count": null,
   "metadata": {},
   "outputs": [],
   "source": [
    "inlinersCluster['MMRAcquisitonRetailCleanPrice'].plot(kind='kde', )\n",
    "outliersCluster['MMRAcquisitonRetailCleanPrice'].plot(kind='kde')\n",
    "plt.legend(['Inlier', 'Outlier'])\n",
    "plt.title('Retail clean price cost plot by DBSCAN clusters')\n",
    "plt.xlabel('Price')\n",
    "plt.show()"
   ]
  },
  {
   "cell_type": "code",
   "execution_count": null,
   "metadata": {},
   "outputs": [],
   "source": [
    "plt.scatter(inlinersCluster['DBSCAN'], inlinersCluster['Size'])\n",
    "plt.scatter(outliersCluster['DBSCAN'], outliersCluster['Size'])\n",
    "plt.title('Auction plot by DBSCAN clusters')\n",
    "plt.xlabel('Cluster')\n",
    "plt.show()"
   ]
  },
  {
   "cell_type": "markdown",
   "metadata": {},
   "source": [
    "# Pattern mining "
   ]
  },
  {
   "cell_type": "markdown",
   "metadata": {},
   "source": [
    "## Extract frequent pattern "
   ]
  },
  {
   "cell_type": "code",
   "execution_count": null,
   "metadata": {},
   "outputs": [],
   "source": [
    "dfrefine.columns\n",
    "dfrefineClone = dfrefine.copy()"
   ]
  },
  {
   "cell_type": "code",
   "execution_count": null,
   "metadata": {},
   "outputs": [],
   "source": [
    "from sklearn.preprocessing import KBinsDiscretizer\n",
    "discr=KBinsDiscretizer(n_bins=8,encode='ordinal',strategy='quantile')\n",
    "contAttri = ['VehOdo', 'MMRAcquisitionAuctionAveragePrice', 'MMRAcquisitionRetailAveragePrice', \n",
    "            'MMRAcquisitonRetailCleanPrice', 'VehBCost', 'WarrantyCost']\n",
    "for att in contAttri: \n",
    "    X = np.array(dfrefineClone[att])\n",
    "    X = X.reshape(-1, 1)\n",
    "    X = discr.fit_transform(X)\n",
    "    discr_attr = att+'_discr'\n",
    "    dfrefineClone[discr_attr] = X"
   ]
  },
  {
   "cell_type": "code",
   "execution_count": null,
   "metadata": {},
   "outputs": [],
   "source": [
    "dfrefineClone.columns"
   ]
  },
  {
   "cell_type": "code",
   "execution_count": null,
   "metadata": {},
   "outputs": [],
   "source": [
    "dfrefineClone.head()"
   ]
  },
  {
   "cell_type": "code",
   "execution_count": null,
   "metadata": {},
   "outputs": [],
   "source": [
    "dfrefineClone = dfrefineClone.drop( columns = ['RefId', 'VehOdo', 'MMRAcquisitionAuctionAveragePrice', \n",
    "                                   'MMRAcquisitionRetailAveragePrice', 'MMRAcquisitonRetailCleanPrice',\n",
    "                                   'VehBCost', 'WarrantyCost'])"
   ]
  },
  {
   "cell_type": "code",
   "execution_count": null,
   "metadata": {},
   "outputs": [],
   "source": [
    "need_new_name = dfrefineClone.columns\n",
    "for nnn in need_new_name:\n",
    "    new_name = ''\n",
    "    if nnn == 'MMRAcquisitionAuctionAveragePrice_discr':\n",
    "        new_name += 'AAAP'\n",
    "    elif nnn == 'MMRAcquisitionRetailAveragePrice_discr':\n",
    "        new_name += 'ARAP'\n",
    "    elif nnn == 'MMRAcquisitonRetailCleanPrice_discr':\n",
    "        new_name += 'ARCP'\n",
    "    else:\n",
    "        new_name += nnn\n",
    "    dfrefineClone[nnn] = new_name + '_' + dfrefineClone[nnn].astype(str)"
   ]
  },
  {
   "cell_type": "code",
   "execution_count": null,
   "metadata": {},
   "outputs": [],
   "source": [
    "dfrefineClone.columns\n",
    "dfrefineClone.head()"
   ]
  },
  {
   "cell_type": "code",
   "execution_count": null,
   "metadata": {},
   "outputs": [],
   "source": [
    "baskets = dfrefineClone.values.tolist()"
   ]
  },
  {
   "cell_type": "code",
   "execution_count": null,
   "metadata": {},
   "outputs": [],
   "source": [
    "from fim import apriori\n",
    "setLens = []\n",
    "for i in range(1, 101):\n",
    "    itemsets = apriori(baskets, supp = i, zmin = 2, target = 'c')\n",
    "    setLens.append(len(itemsets))"
   ]
  },
  {
   "cell_type": "code",
   "execution_count": null,
   "metadata": {},
   "outputs": [],
   "source": [
    "plt.figure(figsize = (5, 3))\n",
    "plt.plot (range(1, 101), setLens)\n",
    "plt.xlabel('Support')\n",
    "plt.ylabel('Number of closed item sets')\n",
    "plt.show "
   ]
  },
  {
   "cell_type": "code",
   "execution_count": null,
   "metadata": {},
   "outputs": [],
   "source": [
    "smallsetLens = []\n",
    "for i in range(6, 21):\n",
    "    itemsets = apriori(baskets, supp = i, zmin = 2, target = 'c')\n",
    "    smallsetLens.append(len(itemsets))"
   ]
  },
  {
   "cell_type": "code",
   "execution_count": null,
   "metadata": {},
   "outputs": [],
   "source": [
    "plt.figure(figsize = (5, 3))\n",
    "plt.plot (range(6, 21), smallsetLens)\n",
    "plt.xlabel('Support')\n",
    "plt.ylabel('Number of closed item sets')\n",
    "plt.show "
   ]
  },
  {
   "cell_type": "code",
   "execution_count": null,
   "metadata": {},
   "outputs": [],
   "source": [
    "def getKey(item):\n",
    "    return item[1]\n",
    "\n",
    "itemsets8 = apriori(baskets, supp = 20, zmin = 2, target = 's')\n",
    "itemsets8=sorted(itemsets8, key=getKey, reverse=True)\n",
    "maxlen = 0;\n",
    "for itemset in itemsets8:\n",
    "    if len(itemset[0]) > maxlen:\n",
    "        maxlen = len(itemset[0])\n",
    "print(maxlen)\n",
    "for itemset in itemsets8:\n",
    "    if len(itemset[0]) >= maxlen:\n",
    "        print(itemset)"
   ]
  },
  {
   "cell_type": "markdown",
   "metadata": {},
   "source": [
    "## Association rule "
   ]
  },
  {
   "cell_type": "code",
   "execution_count": null,
   "metadata": {},
   "outputs": [],
   "source": [
    "from fim import apriori\n",
    "ruleLens = []\n",
    "for i in range(80, 101):\n",
    "    rules = apriori(baskets, supp = 30, zmin = 2, target = 'r', conf=i)\n",
    "    ruleLens.append(len(rules))"
   ]
  },
  {
   "cell_type": "code",
   "execution_count": null,
   "metadata": {},
   "outputs": [],
   "source": [
    "plt.figure(figsize = (5, 3))\n",
    "plt.plot (range(80, 101), ruleLens)\n",
    "plt.xlabel('Confident')\n",
    "plt.ylabel('Number of rules')\n",
    "plt.show "
   ]
  },
  {
   "cell_type": "code",
   "execution_count": null,
   "metadata": {},
   "outputs": [],
   "source": [
    "rule98 = apriori(baskets, supp = 30, zmin = 2, target = 'r', conf=90)"
   ]
  },
  {
   "cell_type": "code",
   "execution_count": null,
   "metadata": {},
   "outputs": [],
   "source": [
    "print(len(rule98))"
   ]
  },
  {
   "cell_type": "code",
   "execution_count": null,
   "metadata": {
    "scrolled": false
   },
   "outputs": [],
   "source": [
    "for rule in rule98:\n",
    "    print(rule)"
   ]
  },
  {
   "cell_type": "code",
   "execution_count": null,
   "metadata": {},
   "outputs": [],
   "source": [
    "rules = apriori(baskets, supp=30, zmin=2, target='r', conf=30,\n",
    "                report='ascl')"
   ]
  },
  {
   "cell_type": "code",
   "execution_count": null,
   "metadata": {},
   "outputs": [],
   "source": [
    "list_confidence=list()\n",
    "list_lift=list()\n",
    "for i in range(len(rules)):\n",
    "    confidence=rules[i][4]\n",
    "    list_confidence.append(confidence)\n",
    "    lift=rules[i][5]\n",
    "    list_lift.append(lift)"
   ]
  },
  {
   "cell_type": "code",
   "execution_count": null,
   "metadata": {},
   "outputs": [],
   "source": [
    "plt.hist(list_confidence,bins=35, cumulative=-1)\n",
    "plt.xlabel('Confidence')\n",
    "plt.ylabel('Count')\n",
    "plt.show()"
   ]
  },
  {
   "cell_type": "code",
   "execution_count": null,
   "metadata": {},
   "outputs": [],
   "source": [
    "plt.hist(list_lift,bins=70, cumulative=-1)\n",
    "plt.xlabel('Lift')\n",
    "plt.ylabel('Count')\n",
    "plt.show()"
   ]
  },
  {
   "cell_type": "markdown",
   "metadata": {},
   "source": [
    "### Replace missing value"
   ]
  },
  {
   "cell_type": "code",
   "execution_count": null,
   "metadata": {},
   "outputs": [],
   "source": [
    "df_Nationality = df[df['Nationality'].isnull()]"
   ]
  },
  {
   "cell_type": "code",
   "execution_count": null,
   "metadata": {},
   "outputs": [],
   "source": [
    "print(df_Nationality['TopThreeAmericanName'])"
   ]
  },
  {
   "cell_type": "code",
   "execution_count": null,
   "metadata": {},
   "outputs": [],
   "source": [
    "df_onlinesale = df[df['IsOnlineSale'].isnull()]"
   ]
  },
  {
   "cell_type": "code",
   "execution_count": null,
   "metadata": {},
   "outputs": [],
   "source": [
    "print(df_onlinesale)"
   ]
  },
  {
   "cell_type": "code",
   "execution_count": null,
   "metadata": {},
   "outputs": [],
   "source": [
    "df_trans = df[df['Transmission'].isnull()]"
   ]
  },
  {
   "cell_type": "code",
   "execution_count": null,
   "metadata": {},
   "outputs": [],
   "source": [
    "df_trans['Auction']"
   ]
  },
  {
   "cell_type": "code",
   "execution_count": null,
   "metadata": {},
   "outputs": [],
   "source": [
    "df['TopThreeAmericanName'].value_counts()"
   ]
  },
  {
   "cell_type": "markdown",
   "metadata": {},
   "source": [
    "### Predict the target variable"
   ]
  },
  {
   "cell_type": "code",
   "execution_count": null,
   "metadata": {},
   "outputs": [],
   "source": [
    "dftest = pd.read_csv('test.csv')\n",
    "print(len(dftest))"
   ]
  },
  {
   "cell_type": "code",
   "execution_count": null,
   "metadata": {},
   "outputs": [],
   "source": [
    "dftest.columns"
   ]
  },
  {
   "cell_type": "code",
   "execution_count": null,
   "metadata": {},
   "outputs": [],
   "source": [
    "dftest['IsBadBuy']"
   ]
  },
  {
   "cell_type": "code",
   "execution_count": null,
   "metadata": {},
   "outputs": [],
   "source": [
    "fil = ((dftest['Transmission'] == 'AUTO') | (dftest['IsOnlineSale'] == 0) | \n",
    "       (dftest['WheelTypeID'] == 0) | (dftest['Size'] == 'MEDIUM') | \n",
    "       (dftest['TopThreeAmericanName'] == 'CHRYSLER') | (dftest['TopThreeAmericanName'] == 'GM'))\n",
    "dfpred = dftest.loc[fil]\n",
    "print(len(dfpred))"
   ]
  },
  {
   "cell_type": "code",
   "execution_count": null,
   "metadata": {},
   "outputs": [],
   "source": [
    "dfpred['IsBadBuyPred'] = 0"
   ]
  },
  {
   "cell_type": "code",
   "execution_count": null,
   "metadata": {},
   "outputs": [],
   "source": [
    "correctfil = ((dfpred['IsBadBuy'] == dfpred['IsBadBuyPred']))\n",
    "dfpredcorr = dfpred.loc[correctfil]\n",
    "print(len(dfpredcorr))"
   ]
  },
  {
   "cell_type": "markdown",
   "metadata": {},
   "source": [
    "# Classification "
   ]
  },
  {
   "cell_type": "code",
   "execution_count": null,
   "metadata": {},
   "outputs": [],
   "source": [
    "from sklearn.tree import DecisionTreeClassifier\n",
    "from sklearn.metrics import accuracy_score, f1_score, classification_report,precision_score,recall_score,confusion_matrix\n",
    "from sklearn.metrics import roc_curve, auc, roc_auc_score\n",
    "from sklearn.model_selection import GridSearchCV\n",
    "from sklearn.model_selection import train_test_split"
   ]
  },
  {
   "cell_type": "code",
   "execution_count": 444,
   "metadata": {},
   "outputs": [
    {
     "data": {
      "text/plain": [
       "Index(['RefId', 'IsBadBuy', 'Auction', 'VehYear', 'Make', 'Model', 'Trim',\n",
       "       'SubModel', 'Color', 'Transmission', 'WheelTypeID', 'VehOdo',\n",
       "       'Nationality', 'Size', 'TopThreeAmericanName',\n",
       "       'MMRAcquisitionAuctionAveragePrice', 'MMRAcquisitionRetailAveragePrice',\n",
       "       'MMRAcquisitonRetailCleanPrice', 'BYRNO', 'VNZIP1', 'VNST', 'VehBCost',\n",
       "       'IsOnlineSale', 'WarrantyCost', 'PurchMonth', 'PurchYear'],\n",
       "      dtype='object')"
      ]
     },
     "execution_count": 444,
     "metadata": {},
     "output_type": "execute_result"
    }
   ],
   "source": [
    "dfrefine.columns"
   ]
  },
  {
   "cell_type": "code",
   "execution_count": 445,
   "metadata": {},
   "outputs": [
    {
     "data": {
      "text/plain": [
       "Index(['VehYear', 'Make', 'Transmission', 'WheelTypeID', 'VehOdo',\n",
       "       'Nationality', 'Size', 'TopThreeAmericanName',\n",
       "       'MMRAcquisitionAuctionAveragePrice', 'MMRAcquisitionRetailAveragePrice',\n",
       "       'MMRAcquisitonRetailCleanPrice', 'VehBCost', 'IsOnlineSale',\n",
       "       'WarrantyCost'],\n",
       "      dtype='object')"
      ]
     },
     "execution_count": 445,
     "metadata": {},
     "output_type": "execute_result"
    }
   ],
   "source": [
    "dfX = dfrefine.drop(columns=['RefId', 'IsBadBuy', 'Auction', 'Trim',\n",
    "       'SubModel', 'Color', 'BYRNO', 'VNZIP1', 'VNST', 'PurchMonth', 'PurchYear', 'Model'])\n",
    "dfX.columns"
   ]
  },
  {
   "cell_type": "code",
   "execution_count": 446,
   "metadata": {},
   "outputs": [],
   "source": [
    "dfXOneHot = pd.get_dummies(dfX, columns=['Make', 'Transmission', 'WheelTypeID', 'Nationality',\n",
    "       'TopThreeAmericanName', 'IsOnlineSale', 'Size', 'VehYear'])\n",
    "dfy = dfrefine['IsBadBuy']"
   ]
  },
  {
   "cell_type": "code",
   "execution_count": 447,
   "metadata": {},
   "outputs": [
    {
     "data": {
      "text/html": [
       "<div>\n",
       "<style scoped>\n",
       "    .dataframe tbody tr th:only-of-type {\n",
       "        vertical-align: middle;\n",
       "    }\n",
       "\n",
       "    .dataframe tbody tr th {\n",
       "        vertical-align: top;\n",
       "    }\n",
       "\n",
       "    .dataframe thead th {\n",
       "        text-align: right;\n",
       "    }\n",
       "</style>\n",
       "<table border=\"1\" class=\"dataframe\">\n",
       "  <thead>\n",
       "    <tr style=\"text-align: right;\">\n",
       "      <th></th>\n",
       "      <th>VehOdo</th>\n",
       "      <th>MMRAcquisitionAuctionAveragePrice</th>\n",
       "      <th>MMRAcquisitionRetailAveragePrice</th>\n",
       "      <th>MMRAcquisitonRetailCleanPrice</th>\n",
       "      <th>VehBCost</th>\n",
       "      <th>WarrantyCost</th>\n",
       "      <th>Make_ACURA</th>\n",
       "      <th>Make_BUICK</th>\n",
       "      <th>Make_CADILLAC</th>\n",
       "      <th>Make_CHEVROLET</th>\n",
       "      <th>...</th>\n",
       "      <th>Size_VAN</th>\n",
       "      <th>VehYear_2001</th>\n",
       "      <th>VehYear_2002</th>\n",
       "      <th>VehYear_2003</th>\n",
       "      <th>VehYear_2004</th>\n",
       "      <th>VehYear_2005</th>\n",
       "      <th>VehYear_2006</th>\n",
       "      <th>VehYear_2007</th>\n",
       "      <th>VehYear_2008</th>\n",
       "      <th>VehYear_2009</th>\n",
       "    </tr>\n",
       "  </thead>\n",
       "  <tbody>\n",
       "    <tr>\n",
       "      <td>0</td>\n",
       "      <td>0.373799</td>\n",
       "      <td>0.484783</td>\n",
       "      <td>0.550067</td>\n",
       "      <td>0.514042</td>\n",
       "      <td>0.432112</td>\n",
       "      <td>0.030381</td>\n",
       "      <td>0.0</td>\n",
       "      <td>0.0</td>\n",
       "      <td>0.0</td>\n",
       "      <td>0.0</td>\n",
       "      <td>...</td>\n",
       "      <td>0.0</td>\n",
       "      <td>0.0</td>\n",
       "      <td>0.0</td>\n",
       "      <td>0.0</td>\n",
       "      <td>0.0</td>\n",
       "      <td>0.0</td>\n",
       "      <td>0.0</td>\n",
       "      <td>0.0</td>\n",
       "      <td>1.0</td>\n",
       "      <td>0.0</td>\n",
       "    </tr>\n",
       "    <tr>\n",
       "      <td>1</td>\n",
       "      <td>0.758042</td>\n",
       "      <td>0.375353</td>\n",
       "      <td>0.311920</td>\n",
       "      <td>0.314390</td>\n",
       "      <td>0.215281</td>\n",
       "      <td>0.499786</td>\n",
       "      <td>0.0</td>\n",
       "      <td>0.0</td>\n",
       "      <td>0.0</td>\n",
       "      <td>0.0</td>\n",
       "      <td>...</td>\n",
       "      <td>0.0</td>\n",
       "      <td>0.0</td>\n",
       "      <td>0.0</td>\n",
       "      <td>0.0</td>\n",
       "      <td>0.0</td>\n",
       "      <td>0.0</td>\n",
       "      <td>1.0</td>\n",
       "      <td>0.0</td>\n",
       "      <td>0.0</td>\n",
       "      <td>0.0</td>\n",
       "    </tr>\n",
       "    <tr>\n",
       "      <td>2</td>\n",
       "      <td>0.186364</td>\n",
       "      <td>0.590471</td>\n",
       "      <td>0.609764</td>\n",
       "      <td>0.564870</td>\n",
       "      <td>0.576665</td>\n",
       "      <td>0.098845</td>\n",
       "      <td>0.0</td>\n",
       "      <td>0.0</td>\n",
       "      <td>0.0</td>\n",
       "      <td>0.0</td>\n",
       "      <td>...</td>\n",
       "      <td>0.0</td>\n",
       "      <td>0.0</td>\n",
       "      <td>0.0</td>\n",
       "      <td>0.0</td>\n",
       "      <td>0.0</td>\n",
       "      <td>0.0</td>\n",
       "      <td>0.0</td>\n",
       "      <td>0.0</td>\n",
       "      <td>1.0</td>\n",
       "      <td>0.0</td>\n",
       "    </tr>\n",
       "    <tr>\n",
       "      <td>3</td>\n",
       "      <td>0.607616</td>\n",
       "      <td>0.320223</td>\n",
       "      <td>0.266108</td>\n",
       "      <td>0.327172</td>\n",
       "      <td>0.290139</td>\n",
       "      <td>0.501070</td>\n",
       "      <td>0.0</td>\n",
       "      <td>0.0</td>\n",
       "      <td>0.0</td>\n",
       "      <td>0.0</td>\n",
       "      <td>...</td>\n",
       "      <td>1.0</td>\n",
       "      <td>0.0</td>\n",
       "      <td>0.0</td>\n",
       "      <td>0.0</td>\n",
       "      <td>0.0</td>\n",
       "      <td>1.0</td>\n",
       "      <td>0.0</td>\n",
       "      <td>0.0</td>\n",
       "      <td>0.0</td>\n",
       "      <td>0.0</td>\n",
       "    </tr>\n",
       "    <tr>\n",
       "      <td>4</td>\n",
       "      <td>0.573169</td>\n",
       "      <td>0.371196</td>\n",
       "      <td>0.308465</td>\n",
       "      <td>0.325552</td>\n",
       "      <td>0.387713</td>\n",
       "      <td>0.496791</td>\n",
       "      <td>0.0</td>\n",
       "      <td>0.0</td>\n",
       "      <td>0.0</td>\n",
       "      <td>0.0</td>\n",
       "      <td>...</td>\n",
       "      <td>1.0</td>\n",
       "      <td>0.0</td>\n",
       "      <td>0.0</td>\n",
       "      <td>0.0</td>\n",
       "      <td>0.0</td>\n",
       "      <td>1.0</td>\n",
       "      <td>0.0</td>\n",
       "      <td>0.0</td>\n",
       "      <td>0.0</td>\n",
       "      <td>0.0</td>\n",
       "    </tr>\n",
       "  </tbody>\n",
       "</table>\n",
       "<p>5 rows × 69 columns</p>\n",
       "</div>"
      ],
      "text/plain": [
       "     VehOdo  MMRAcquisitionAuctionAveragePrice  \\\n",
       "0  0.373799  0.484783                            \n",
       "1  0.758042  0.375353                            \n",
       "2  0.186364  0.590471                            \n",
       "3  0.607616  0.320223                            \n",
       "4  0.573169  0.371196                            \n",
       "\n",
       "   MMRAcquisitionRetailAveragePrice  MMRAcquisitonRetailCleanPrice  VehBCost  \\\n",
       "0  0.550067                          0.514042                       0.432112   \n",
       "1  0.311920                          0.314390                       0.215281   \n",
       "2  0.609764                          0.564870                       0.576665   \n",
       "3  0.266108                          0.327172                       0.290139   \n",
       "4  0.308465                          0.325552                       0.387713   \n",
       "\n",
       "   WarrantyCost  Make_ACURA  Make_BUICK  Make_CADILLAC  Make_CHEVROLET  ...  \\\n",
       "0  0.030381      0.0         0.0         0.0            0.0             ...   \n",
       "1  0.499786      0.0         0.0         0.0            0.0             ...   \n",
       "2  0.098845      0.0         0.0         0.0            0.0             ...   \n",
       "3  0.501070      0.0         0.0         0.0            0.0             ...   \n",
       "4  0.496791      0.0         0.0         0.0            0.0             ...   \n",
       "\n",
       "   Size_VAN  VehYear_2001  VehYear_2002  VehYear_2003  VehYear_2004  \\\n",
       "0  0.0       0.0           0.0           0.0           0.0            \n",
       "1  0.0       0.0           0.0           0.0           0.0            \n",
       "2  0.0       0.0           0.0           0.0           0.0            \n",
       "3  1.0       0.0           0.0           0.0           0.0            \n",
       "4  1.0       0.0           0.0           0.0           0.0            \n",
       "\n",
       "   VehYear_2005  VehYear_2006  VehYear_2007  VehYear_2008  VehYear_2009  \n",
       "0  0.0           0.0           0.0           1.0           0.0           \n",
       "1  0.0           1.0           0.0           0.0           0.0           \n",
       "2  0.0           0.0           0.0           1.0           0.0           \n",
       "3  1.0           0.0           0.0           0.0           0.0           \n",
       "4  1.0           0.0           0.0           0.0           0.0           \n",
       "\n",
       "[5 rows x 69 columns]"
      ]
     },
     "execution_count": 447,
     "metadata": {},
     "output_type": "execute_result"
    }
   ],
   "source": [
    "dfXNorm = (dfXOneHot - dfXOneHot.min())/(dfXOneHot.max() - dfXOneHot.min())\n",
    "dfXNorm.head()"
   ]
  },
  {
   "cell_type": "code",
   "execution_count": 448,
   "metadata": {},
   "outputs": [
    {
     "name": "stdout",
     "output_type": "stream",
     "text": [
      "(50799, 69)\n"
     ]
    }
   ],
   "source": [
    "X = dfXNorm.values\n",
    "y = dfy.values\n",
    "print(X.shape)"
   ]
  },
  {
   "cell_type": "code",
   "execution_count": null,
   "metadata": {},
   "outputs": [],
   "source": [
    "onetrial = DecisionTreeClassifier()\n",
    "\n",
    "param_list_one_trial = {'criterion': ['gini','entropy'],\n",
    "                        'splitter': ['best', 'random']\n",
    "#               'min_samples_split': list(range(200,600,50))\n",
    "#               'min_samples_leaf': list(range(100,400,40))\n",
    "#               'max_depth': list(range(5,20))\n",
    "#               'min_impurity_decrease': list(np.arange(0.0001,0.001,0.0002))\n",
    "#               'class_weight': [None, 'balanced', {0:1, 1:1.5}, {0:1, 1:2}, {0:1, 1:2.5}, {0:1, 1:3}, {0:1, 1:3.5}]\n",
    "             }\n",
    "\n",
    "#applico la ricerca dei parametri con GridSearchCV per la ricerca dei parametri\n",
    "grid_search_onetrial = GridSearchCV(onetrial, param_grid=param_list_one_trial, scoring='f1_weighted', verbose = 2, n_jobs = -1)\n",
    "grid_search_onetrial.fit(X, y)"
   ]
  },
  {
   "cell_type": "code",
   "execution_count": null,
   "metadata": {},
   "outputs": [],
   "source": [
    "def plot_grid_search(cv_results):\n",
    "#     print(cv_results)\n",
    "    # Get Test Scores Mean and std for each grid search\n",
    "    scores_mean = cv_results['mean_test_score']\n",
    "    scores_mean = np.array(scores_mean).reshape(2, 2)\n",
    "    scores_sd = cv_results['std_test_score']\n",
    "    scores_sd = np.array(scores_sd).reshape(2, 2)\n",
    "\n",
    "    # Plot Grid search scores\n",
    "    _, ax = plt.subplots(1,1)\n",
    "\n",
    "    # Param1 is the X-axis, Param 2 is represented as a different curve (color line)\n",
    "    for idx, val in enumerate(['gini', 'entropy']):\n",
    "        ax.plot(['best', 'random'], scores_mean[idx,:], '-o', label= 'criterion' + ': ' + str(val))\n",
    "\n",
    "    ax.set_title(\"Grid Search Scores\", )\n",
    "    ax.set_xlabel('Splitter')\n",
    "    ax.set_ylabel('CV Average Score')\n",
    "    ax.legend(loc=\"best\", fontsize=10)\n",
    "    ax.grid('on')"
   ]
  },
  {
   "cell_type": "code",
   "execution_count": null,
   "metadata": {},
   "outputs": [],
   "source": [
    "plot_grid_search(grid_search_onetrial.cv_results_)"
   ]
  },
  {
   "cell_type": "code",
   "execution_count": null,
   "metadata": {
    "scrolled": true
   },
   "outputs": [],
   "source": [
    "clf = DecisionTreeClassifier()\n",
    "\n",
    "param_list = {'criterion': ['gini','entropy'],\n",
    "              'min_samples_split': list(range(200,600,50)),\n",
    "              'min_samples_leaf': list(range(100,200,40)),\n",
    "              'max_depth': list(range(5,10)),\n",
    "              'min_impurity_decrease': list(np.arange(0.0001,0.001,0.0002)),\n",
    "              'class_weight': [None, 'balanced', {0:1, 1:1.5}, {0:1, 1:2}, {0:1, 1:2.5}]\n",
    "             }\n",
    "\n",
    "#applico la ricerca dei parametri con GridSearchCV per la ricerca dei parametri\n",
    "grid_search = GridSearchCV(clf, param_grid=param_list, scoring='f1_weighted', verbose = 2, n_jobs = -1)\n",
    "grid_search.fit(X, y)"
   ]
  },
  {
   "cell_type": "code",
   "execution_count": null,
   "metadata": {},
   "outputs": [],
   "source": [
    "print(grid_search.best_estimator_)"
   ]
  },
  {
   "cell_type": "code",
   "execution_count": 475,
   "metadata": {},
   "outputs": [
    {
     "name": "stdout",
     "output_type": "stream",
     "text": [
      "Time:  0.5600979230075609\n"
     ]
    }
   ],
   "source": [
    "bestSearch = grid_search.best_estimator_\n",
    "start = timeit.default_timer()\n",
    "bestSearch.fit(X, y)\n",
    "stop = timeit.default_timer()\n",
    "print('Time: ', stop - start) "
   ]
  },
  {
   "cell_type": "code",
   "execution_count": null,
   "metadata": {},
   "outputs": [],
   "source": [
    "from sklearn.model_selection import cross_val_score\n",
    "\n",
    "scores = cross_val_score(bestSearch, X, y, scoring='f1', n_jobs = -1, verbose = 1)\n",
    "print('F1-score: %0.4f (+/- %0.2f)' % (scores.mean(), scores.std() * 2))\n",
    "\n",
    "scores = cross_val_score(bestSearch, X, y, scoring='accuracy', n_jobs = -1, verbose = 1)\n",
    "print('Accuracy: %0.4f (+/- %0.2f)' % (scores.mean(), scores.std() * 2))\n",
    "\n",
    "scores = cross_val_score(bestSearch, X, y, scoring='precision', n_jobs = -1, verbose = 1)\n",
    "print('precision: %0.4f (+/- %0.2f)' % (scores.mean(), scores.std() * 2))\n",
    "\n",
    "scores = cross_val_score(bestSearch, X, y, scoring='recall', n_jobs = -1, verbose = 1)\n",
    "print('recall: %0.4f (+/- %0.2f)' % (scores.mean(), scores.std() * 2))"
   ]
  },
  {
   "cell_type": "markdown",
   "metadata": {},
   "source": [
    "## Decision tree interpretation"
   ]
  },
  {
   "cell_type": "code",
   "execution_count": null,
   "metadata": {},
   "outputs": [],
   "source": [
    "import pydotplus\n",
    "from sklearn import tree\n",
    "from IPython.display import Image\n",
    "\n",
    "import os     \n",
    "\n",
    "dot_data = tree.export_graphviz(bestSearch, out_file=None,  \n",
    "                                feature_names=dfXNorm.columns, \n",
    "                                #class_names=clf.classes_,  \n",
    "                                filled=True, rounded=True,  \n",
    "                                special_characters=True)  \n",
    "graph = pydotplus.graph_from_dot_data(dot_data)  \n",
    "Image(graph.create_png())"
   ]
  },
  {
   "cell_type": "markdown",
   "metadata": {},
   "source": [
    "## Decision tree validation with test and training set"
   ]
  },
  {
   "cell_type": "code",
   "execution_count": null,
   "metadata": {},
   "outputs": [],
   "source": [
    "from sklearn.metrics import precision_score,recall_score,confusion_matrix\n",
    "\n",
    "bestSearch.fit(X, y)\n",
    "y_pred=bestSearch.predict(X)\n",
    "print('accuracy_score %s' % accuracy_score(y, y_pred))\n",
    "print(classification_report(y, y_pred))\n",
    "print(confusion_matrix(y, y_pred))"
   ]
  },
  {
   "cell_type": "code",
   "execution_count": null,
   "metadata": {},
   "outputs": [],
   "source": [
    "dfX.columns"
   ]
  },
  {
   "cell_type": "code",
   "execution_count": null,
   "metadata": {},
   "outputs": [],
   "source": [
    "dftest.columns"
   ]
  },
  {
   "cell_type": "code",
   "execution_count": null,
   "metadata": {},
   "outputs": [],
   "source": [
    "dfXTest = dftest.drop(columns=['RefId', 'IsBadBuy', 'PurchDate', 'Auction', 'VehicleAge',\n",
    "       'Model', 'Trim', 'SubModel', 'Color',\n",
    "       'WheelType', 'MMRAcquisitionAuctionCleanPrice',\n",
    "       'MMRCurrentAuctionAveragePrice',\n",
    "       'MMRCurrentAuctionCleanPrice', 'MMRCurrentRetailAveragePrice',\n",
    "       'MMRCurrentRetailCleanPrice', 'PRIMEUNIT', 'AUCGUART', 'BYRNO',\n",
    "       'VNZIP1', 'VNST'])\n",
    "dfXTest.columns"
   ]
  },
  {
   "cell_type": "code",
   "execution_count": null,
   "metadata": {},
   "outputs": [],
   "source": [
    "dfXTestOneHot = pd.get_dummies(dfXTest, columns=['Make', 'Transmission', 'WheelTypeID', 'Nationality',\n",
    "       'TopThreeAmericanName', 'IsOnlineSale', 'Size', 'VehYear'])\n",
    "dfytest = dftest['IsBadBuy']\n",
    "print(len(dfytest))\n",
    "dfXTest.head()"
   ]
  },
  {
   "cell_type": "code",
   "execution_count": null,
   "metadata": {},
   "outputs": [],
   "source": [
    "dfXTestOneHot = dfXTestOneHot.drop(columns=['Make_INFINITI', 'Make_MINI', 'Make_PLYMOUTH', 'Make_VOLKSWAGEN', 'Make_VOLVO', 'WheelTypeID_0.0'])"
   ]
  },
  {
   "cell_type": "code",
   "execution_count": null,
   "metadata": {},
   "outputs": [],
   "source": [
    "dfXTestOneHot.columns\n",
    "dfXTestOneHot.insert(loc=32, column='Make_TOYOTA SCION', value=0)\n",
    "dfXTestOneHot.insert(loc=35, column='Transmission_Manual', value=0)\n",
    "dfXTestOneHot = dfXTestOneHot.drop(columns=['Nationality_OTHER'])\n",
    "dfXTestOneHot.columns"
   ]
  },
  {
   "cell_type": "code",
   "execution_count": null,
   "metadata": {},
   "outputs": [],
   "source": [
    "dfXOneHot.columns"
   ]
  },
  {
   "cell_type": "code",
   "execution_count": null,
   "metadata": {},
   "outputs": [],
   "source": [
    "dfXTestNorm = (dfXTestOneHot - dfXTestOneHot.min())/(dfXTestOneHot.max() - dfXTestOneHot.min())\n",
    "dfXTestNorm=dfXTestNorm.fillna(0)"
   ]
  },
  {
   "cell_type": "code",
   "execution_count": null,
   "metadata": {},
   "outputs": [],
   "source": [
    "Xtest = dfXTestNorm.values\n",
    "ytest = dfytest.values\n",
    "print(Xtest)"
   ]
  },
  {
   "cell_type": "code",
   "execution_count": 476,
   "metadata": {},
   "outputs": [
    {
     "name": "stdout",
     "output_type": "stream",
     "text": [
      "Time:  0.009046266000950709\n",
      "accuracy_score 0.8744262519695828\n",
      "              precision    recall  f1-score   support\n",
      "\n",
      "           0       0.88      0.99      0.93     12829\n",
      "           1       0.24      0.02      0.03      1768\n",
      "\n",
      "    accuracy                           0.87     14597\n",
      "   macro avg       0.56      0.50      0.48     14597\n",
      "weighted avg       0.80      0.87      0.82     14597\n",
      "\n",
      "[[12735    94]\n",
      " [ 1739    29]]\n"
     ]
    }
   ],
   "source": [
    "start = timeit.default_timer()\n",
    "ytest_pred=bestSearch.predict(Xtest)\n",
    "stop = timeit.default_timer()\n",
    "print('Time: ', stop - start) \n",
    "\n",
    "print('accuracy_score %s' % accuracy_score(ytest, ytest_pred))\n",
    "print(classification_report(ytest, ytest_pred))\n",
    "print(confusion_matrix(ytest, ytest_pred))"
   ]
  },
  {
   "cell_type": "code",
   "execution_count": null,
   "metadata": {},
   "outputs": [],
   "source": [
    "feature_cols = dfXNorm.columns\n",
    "print(bestSearch.feature_importances_)\n",
    "importance = pd.DataFrame(\n",
    "    {\"feature\": feature_cols[:], \"importance\": bestSearch.feature_importances_[:]}\n",
    ")\n",
    "importance.sort_values(\n",
    "    by=\"importance\",\n",
    "    axis=0,\n",
    "    ascending=False,\n",
    "    inplace=True,\n",
    "    kind=\"quicksort\",\n",
    "    na_position=\"last\",\n",
    ")\n",
    "imfg = importance[:18].plot(x=\"feature\", y=\"importance\", kind=\"bar\")\n",
    "plt.ylabel(\"importance\")\n",
    "plt.setp(imfg.get_xticklabels(), rotation=30, ha ='right')"
   ]
  },
  {
   "cell_type": "markdown",
   "metadata": {},
   "source": [
    "# Addition tasks"
   ]
  },
  {
   "cell_type": "markdown",
   "metadata": {},
   "source": [
    "## KNN classification "
   ]
  },
  {
   "cell_type": "code",
   "execution_count": 471,
   "metadata": {},
   "outputs": [],
   "source": [
    "from sklearn.neighbors import KNeighborsClassifier \n",
    "knn = KNeighborsClassifier(n_neighbors=2, weights='distance', algorithm='brute')"
   ]
  },
  {
   "cell_type": "code",
   "execution_count": 472,
   "metadata": {},
   "outputs": [
    {
     "name": "stdout",
     "output_type": "stream",
     "text": [
      "Time:  0.01604723301716149\n"
     ]
    }
   ],
   "source": [
    "start = timeit.default_timer()\n",
    "ytest_pred=knn.fit(X, y)\n",
    "stop = timeit.default_timer()\n",
    "print('Time: ', stop - start) "
   ]
  },
  {
   "cell_type": "code",
   "execution_count": 450,
   "metadata": {},
   "outputs": [
    {
     "name": "stdout",
     "output_type": "stream",
     "text": [
      "(50799, 69)\n"
     ]
    }
   ],
   "source": [
    "print(X.shape)"
   ]
  },
  {
   "cell_type": "code",
   "execution_count": 473,
   "metadata": {},
   "outputs": [
    {
     "name": "stdout",
     "output_type": "stream",
     "text": [
      "Time:  28.357611254992662\n",
      "accuracy_score 0.8060560389121052\n",
      "              precision    recall  f1-score   support\n",
      "\n",
      "           0       0.88      0.90      0.89     12829\n",
      "           1       0.16      0.14      0.15      1768\n",
      "\n",
      "    accuracy                           0.81     14597\n",
      "   macro avg       0.52      0.52      0.52     14597\n",
      "weighted avg       0.80      0.81      0.80     14597\n",
      "\n",
      "[[11510  1319]\n",
      " [ 1512   256]]\n"
     ]
    }
   ],
   "source": [
    "import timeit\n",
    "\n",
    "start = timeit.default_timer()\n",
    "ytest_pred=knn.predict(Xtest)\n",
    "stop = timeit.default_timer()\n",
    "print('Time: ', stop - start)  \n",
    "\n",
    "print('accuracy_score %s' % accuracy_score(ytest, ytest_pred))\n",
    "print(classification_report(ytest, ytest_pred))\n",
    "print(confusion_matrix(ytest, ytest_pred))"
   ]
  },
  {
   "cell_type": "markdown",
   "metadata": {},
   "source": [
    "## Naive Bayesian "
   ]
  },
  {
   "cell_type": "code",
   "execution_count": 485,
   "metadata": {},
   "outputs": [
    {
     "name": "stdout",
     "output_type": "stream",
     "text": [
      "Time:  0.10382994799874723\n"
     ]
    }
   ],
   "source": [
    "from sklearn.naive_bayes import GaussianNB, MultinomialNB, ComplementNB, BernoulliNB \n",
    "NB = BernoulliNB()\n",
    "start = timeit.default_timer()\n",
    "NB.fit(X, y)\n",
    "stop = timeit.default_timer()\n",
    "print('Time: ', stop - start)  "
   ]
  },
  {
   "cell_type": "code",
   "execution_count": 486,
   "metadata": {},
   "outputs": [
    {
     "name": "stdout",
     "output_type": "stream",
     "text": [
      "Time:  0.029836878005880862\n",
      "accuracy_score 0.8636706172501198\n",
      "              precision    recall  f1-score   support\n",
      "\n",
      "           0       0.88      0.98      0.93     12829\n",
      "           1       0.20      0.04      0.07      1768\n",
      "\n",
      "    accuracy                           0.86     14597\n",
      "   macro avg       0.54      0.51      0.50     14597\n",
      "weighted avg       0.80      0.86      0.82     14597\n",
      "\n",
      "[[12532   297]\n",
      " [ 1693    75]]\n"
     ]
    }
   ],
   "source": [
    "start = timeit.default_timer()\n",
    "ytest_pred=NB.predict(Xtest)\n",
    "stop = timeit.default_timer()\n",
    "print('Time: ', stop - start)  \n",
    "\n",
    "print('accuracy_score %s' % accuracy_score(ytest, ytest_pred))\n",
    "print(classification_report(ytest, ytest_pred))\n",
    "print(confusion_matrix(ytest, ytest_pred))"
   ]
  },
  {
   "cell_type": "markdown",
   "metadata": {},
   "source": [
    "## EM clustering "
   ]
  },
  {
   "cell_type": "code",
   "execution_count": 492,
   "metadata": {},
   "outputs": [
    {
     "name": "stdout",
     "output_type": "stream",
     "text": [
      "Initialization 0\n",
      "Initialization converged: True\n"
     ]
    },
    {
     "data": {
      "text/plain": [
       "GaussianMixture(covariance_type='full', init_params='kmeans', max_iter=100,\n",
       "                means_init=None, n_components=10, n_init=1,\n",
       "                precisions_init=None, random_state=None, reg_covar=1e-06,\n",
       "                tol=0.001, verbose=1, verbose_interval=10, warm_start=False,\n",
       "                weights_init=None)"
      ]
     },
     "execution_count": 492,
     "metadata": {},
     "output_type": "execute_result"
    }
   ],
   "source": [
    "from sklearn.mixture import GaussianMixture\n",
    "GM = GaussianMixture(verbose=1, n_components = 10)\n",
    "GM.fit(X)"
   ]
  },
  {
   "cell_type": "code",
   "execution_count": 494,
   "metadata": {},
   "outputs": [
    {
     "name": "stdout",
     "output_type": "stream",
     "text": [
      "Initialization 0\n",
      "Initialization converged: True\n"
     ]
    }
   ],
   "source": [
    "dfDummyCluster['EM'] = GM.fit_predict(X)"
   ]
  },
  {
   "cell_type": "code",
   "execution_count": 495,
   "metadata": {},
   "outputs": [
    {
     "data": {
      "text/plain": [
       "0    8568\n",
       "7    7548\n",
       "3    6236\n",
       "6    5919\n",
       "4    5614\n",
       "1    4428\n",
       "5    3555\n",
       "2    3217\n",
       "8    3078\n",
       "9    2636\n",
       "Name: EM, dtype: int64"
      ]
     },
     "execution_count": 495,
     "metadata": {},
     "output_type": "execute_result"
    }
   ],
   "source": [
    "dfDummyCluster['EM'].value_counts()"
   ]
  },
  {
   "cell_type": "code",
   "execution_count": 498,
   "metadata": {},
   "outputs": [
    {
     "name": "stderr",
     "output_type": "stream",
     "text": [
      "/Users/phamgiang/opt/anaconda3/envs/FirstSemeter/lib/python3.7/site-packages/ipykernel_launcher.py:5: SettingWithCopyWarning: \n",
      "A value is trying to be set on a copy of a slice from a DataFrame.\n",
      "Try using .loc[row_indexer,col_indexer] = value instead\n",
      "\n",
      "See the caveats in the documentation: http://pandas.pydata.org/pandas-docs/stable/user_guide/indexing.html#returning-a-view-versus-a-copy\n",
      "  \"\"\"\n"
     ]
    }
   ],
   "source": [
    "EMclusters = []\n",
    "EMclusterSize = []\n",
    "for i in range(10):\n",
    "    EMcluster = dfCluster[dfDummyCluster['EM']==i]\n",
    "    EMcluster['EM'] = str(i)\n",
    "    EMclusters.append(EMcluster)\n",
    "    EMclusterSize.append(len(EMcluster))"
   ]
  },
  {
   "cell_type": "code",
   "execution_count": 499,
   "metadata": {},
   "outputs": [
    {
     "data": {
      "text/plain": [
       "<Figure size 792x360 with 0 Axes>"
      ]
     },
     "metadata": {},
     "output_type": "display_data"
    },
    {
     "data": {
      "image/png": "[encoded data removed]",
      "text/plain": [
       "<Figure size 432x288 with 1 Axes>"
      ]
     },
     "metadata": {
      "needs_background": "light"
     },
     "output_type": "display_data"
    }
   ],
   "source": [
    "plt.figure(figsize = (11, 5))\n",
    "EMclusterID = ['0', '1', '2', '3', '4', '5', '6', '7', '8', '9']\n",
    "fig = plt.figure()\n",
    "ax = fig.add_axes([0,0,1,1])\n",
    "ax.bar(EMclusterID,EMclusterSize)\n",
    "plt.xlabel('Cluster ID')\n",
    "plt.ylabel('Size of cluster')\n",
    "plt.show()"
   ]
  },
  {
   "cell_type": "code",
   "execution_count": 503,
   "metadata": {},
   "outputs": [
    {
     "data": {
      "text/plain": [
       "Index(['RefId', 'IsBadBuy', 'Auction', 'VehYear', 'Make', 'Model', 'Trim',\n",
       "       'SubModel', 'Color', 'Transmission', 'WheelTypeID', 'VehOdo',\n",
       "       'Nationality', 'Size', 'TopThreeAmericanName',\n",
       "       'MMRAcquisitionAuctionAveragePrice', 'MMRAcquisitionRetailAveragePrice',\n",
       "       'MMRAcquisitonRetailCleanPrice', 'BYRNO', 'VNZIP1', 'VNST', 'VehBCost',\n",
       "       'IsOnlineSale', 'WarrantyCost', 'PurchMonth', 'PurchYear'],\n",
       "      dtype='object')"
      ]
     },
     "execution_count": 503,
     "metadata": {},
     "output_type": "execute_result"
    }
   ],
   "source": [
    "dfrefine.columns"
   ]
  },
  {
   "cell_type": "code",
   "execution_count": 509,
   "metadata": {},
   "outputs": [
    {
     "data": {
      "image/png": "[encoded data removed]",
      "text/plain": [
       "<Figure size 432x288 with 1 Axes>"
      ]
     },
     "metadata": {},
     "output_type": "display_data"
    }
   ],
   "source": [
    "dfrefine['VehBCost'].plot(kind='kde')\n",
    "plt.legend('Whole data')\n",
    "for EMcluster in EMclusters:\n",
    "    EMcluster['VehBCost'].plot(kind='kde')\n",
    "plt.title('VehBCost plot by clusters and the whole data')\n",
    "plt.xlabel('Price')\n",
    "plt.show()"
   ]
  },
  {
   "cell_type": "code",
   "execution_count": 513,
   "metadata": {},
   "outputs": [
    {
     "data": {
      "image/png": "[encoded data removed]",
      "text/plain": [
       "<Figure size 432x288 with 1 Axes>"
      ]
     },
     "metadata": {},
     "output_type": "display_data"
    }
   ],
   "source": [
    "import seaborn as sns\n",
    "import matplotlib.pyplot as plt\n",
    "sns.set(style=\"ticks\", color_codes=True)\n",
    "\n",
    "for EMcluster in EMclusters:\n",
    "    plt.scatter(EMcluster['EM'], EMcluster['TopThreeAmericanName'])\n",
    "plt.title('Make plot by clusters')\n",
    "plt.xlabel('Cluster')\n",
    "plt.show()"
   ]
  },
  {
   "cell_type": "code",
   "execution_count": null,
   "metadata": {},
   "outputs": [],
   "source": []
  }
 ],
 "metadata": {
  "kernelspec": {
   "display_name": "Python 3",
   "language": "python",
   "name": "python3"
  },
  "language_info": {
   "codemirror_mode": {
    "name": "ipython",
    "version": 3
   },
   "file_extension": ".py",
   "mimetype": "text/x-python",
   "name": "python",
   "nbconvert_exporter": "python",
   "pygments_lexer": "ipython3",
   "version": "3.7.4"
  }
 },
 "nbformat": 4,
 "nbformat_minor": 2
}
